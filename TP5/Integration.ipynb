{
 "cells": [
  {
   "cell_type": "markdown",
   "metadata": {},
   "source": [
    "<div class=\"alert alert-block alert-info\">\n",
    "<span style=\"font-size:xx-large;\"><center>Integration</center></span>\n",
    "</div>\n",
    "\n",
    "Now we would like to compute the following integral :\n",
    "$$\\int_{-1}^{1} \\frac{1}{1+25x^2}dx$$\n",
    "\n",
    "I will not ask you to compute analytically this integral (but you should be ablo to do it)  \n",
    "the solution is  \n",
    "$$\\frac{2}{5}\\arctan(5)$$\n",
    "\n",
    "Store this value in a variable `solution`"
   ]
  },
  {
   "cell_type": "code",
   "execution_count": null,
   "metadata": {},
   "outputs": [],
   "source": []
  },
  {
   "cell_type": "markdown",
   "metadata": {},
   "source": [
    "This variable will be use later to check the precision of th different methods.\n",
    "\n",
    "Define the function $\\text{runge}(x)= \\frac{1}{1+25x^2}$"
   ]
  },
  {
   "cell_type": "code",
   "execution_count": null,
   "metadata": {},
   "outputs": [],
   "source": []
  },
  {
   "cell_type": "markdown",
   "metadata": {},
   "source": [
    "Plot the function between for $x\\in\\left[-1,1\\right]$"
   ]
  },
  {
   "cell_type": "code",
   "execution_count": null,
   "metadata": {},
   "outputs": [],
   "source": [
    "%matplotlib notebook\n",
    "\n",
    "import numpy as np\n",
    "import matplotlib.pyplot as plt\n",
    "\n",
    "xmin = -1.0\n",
    "xmax =  1.0\n",
    "\n",
    "t = np.arange(xmin, xmax, 0.01)\n",
    "\n",
    "fig, ax = plt.subplots()\n",
    "\n",
    "plt.fill_between(t, 0, runge(t))\n",
    "plt.plot(t, runge(t), 'r-')\n",
    "ax.set_xlim(xmin,xmax)\n",
    "ax.set_ylim(-0.1,1.2)\n",
    "plt.xlabel(\"Time\")\n",
    "plt.ylabel(\"$runge(t)$\")\n",
    "plt.title('Objective : compute the blue area') \n",
    "plt.text(0.,0.2,\"{:7.5f}\".format(solution),ha=\"center\")\n",
    "ax.grid()\n",
    "plt.show()"
   ]
  },
  {
   "cell_type": "markdown",
   "metadata": {},
   "source": [
    "# The rectangle rule\n",
    "Integrating is difficult, let's keep thing simple :  \n",
    "I know how to integrate a constant!  \n",
    "What if I consider the curve to be some kind of a stair : \n",
    "<img src=\"Integration_rectangle.svg\" alt=\"Flowchart\" style=\"height: 120px\"/>\n",
    "\n",
    "I can consider that the function is constant between $x_\\text{min}$ and $x_\\text{max}$.\n",
    "\n",
    "$$\\begin{align}\n",
    "\\int_{x_\\text{min}}^{x_\\text{max}} { f(x) dx} &\\approx \\int_{x_\\text{min}}^{x_\\text{max}} { C dx}\\\\\n",
    "&=C (x_\\text{max} - x_\\text{min}) \\\\\n",
    "\\end{align}$$\n",
    "With $C = f(\\frac{x_\\text{max} + x_\\text{min}}{2})$.  \n",
    "(In fact I could have taken $f(x_\\text{min})$ or $f(x_\\text{max})$ it would not be very different)\n",
    "\n",
    "\n",
    "We will consider that all steps are equally large  \n",
    "Write a function `rectangle_integ(N)` that, given a number of points `N`, compute\n",
    "1. the step width `dx`\n",
    "2. the positions `rect_x` of the center of each rectangle\n",
    "3. the heights `rect_y` of each rectangle\n",
    "4. the value of the integral's approximation `integ`\n",
    "4. return the values `rect_x`, `rect_y` and `integ`"
   ]
  },
  {
   "cell_type": "code",
   "execution_count": null,
   "metadata": {},
   "outputs": [],
   "source": []
  },
  {
   "cell_type": "markdown",
   "metadata": {},
   "source": [
    "Test it with 10 steps :"
   ]
  },
  {
   "cell_type": "code",
   "execution_count": null,
   "metadata": {},
   "outputs": [],
   "source": []
  },
  {
   "cell_type": "markdown",
   "metadata": {},
   "source": [
    "If you correctly wrote your function, the cell bellow should work"
   ]
  },
  {
   "cell_type": "code",
   "execution_count": null,
   "metadata": {
    "scrolled": false
   },
   "outputs": [],
   "source": [
    "rect_x, rect_y, integ = rectangle_integ(10)\n",
    "dx = rect_x[1] - rect_x[0]\n",
    "\n",
    "def rectangles(x):\n",
    "    xx = ((x-xmin) // dx).astype(np.int)\n",
    "    return rect_y[xx]\n",
    "\n",
    "fig, ax = plt.subplots()\n",
    "\n",
    "ax.plot(t, runge(t),'r-')\n",
    "plt.fill_between(t, 0, runge(t))\n",
    "ax.fill_between(t, rectangles(t), runge(t), where=runge(t) >= rectangles(t),\n",
    "                facecolor='yellow', interpolate=True, label=\"under-estimation\")\n",
    "ax.fill_between(t, rectangles(t), runge(t), where=runge(t) <= rectangles(t),\n",
    "                facecolor='red', interpolate=True, label=\"over-estimation\")\n",
    "ax.set_xlim(xmin,xmax)\n",
    "ax.set_ylim(-0.1,1.2)\n",
    "plt.xlabel(\"Time\")\n",
    "plt.ylabel(\"$runge(t)$\")\n",
    "plt.title('Errors with the rectangle rule') \n",
    "plt.text(0.,0.2,\"{:7.5f}\".format(integ),ha=\"center\")\n",
    "ax.grid()\n",
    "plt.legend()\n",
    "plt.show()"
   ]
  },
  {
   "cell_type": "markdown",
   "metadata": {},
   "source": [
    "# Trapezoidal rule\n",
    "Hey but this correspond to the area of simple geometric shapes  \n",
    "I also know how to compute area of a trapezoid!\n",
    "<img src=\"Integration_trapezoid.svg\" alt=\"Flowchart\" style=\"height: 120px\"/>\n",
    "\n",
    "$$\\begin{align}\n",
    "\\int_{x_\\text{min}}^{x_\\text{max}} { f(x) dx} &= (x_\\text{max} - x_\\text{min}) \\left(\\frac{ f(x_\\text{max}) + f(x_\\text{min})}{2}\\right)\n",
    "\\end{align}$$\n",
    "\n",
    "We will consider that all steps are equally large  \n",
    "Write a function `trapez_integ(N)` that, given a number of points `N`, compute\n",
    "1. the step width `dx`\n",
    "2. the positions `trapz_x` of the edge of each trapezoidal\n",
    "3. the heights `trapz_y` of each edge of each trapezoidal\n",
    "4. the value of the integral's approximation `integ`\n",
    "4. return the values `trapz_x`, `trapz_y` and `integ`"
   ]
  },
  {
   "cell_type": "code",
   "execution_count": null,
   "metadata": {},
   "outputs": [],
   "source": []
  },
  {
   "cell_type": "markdown",
   "metadata": {},
   "source": [
    "Test it with 10 steps :"
   ]
  },
  {
   "cell_type": "code",
   "execution_count": null,
   "metadata": {},
   "outputs": [],
   "source": []
  },
  {
   "cell_type": "markdown",
   "metadata": {},
   "source": [
    "If you correctly wrote your function, the cell bellow should work"
   ]
  },
  {
   "cell_type": "code",
   "execution_count": null,
   "metadata": {},
   "outputs": [],
   "source": [
    "trapz_x, trapz_y, integ = trapez_integ(10)\n",
    "dx = trapz_x[1] - trapz_x[0]\n",
    "\n",
    "def trapezoids(x):\n",
    "    i1 = ((x-xmin) // dx).astype(np.int)\n",
    "    i2 = i1 + 1 \n",
    "    x1 = trapz_x[i1]\n",
    "    x2 = trapz_x[i2]\n",
    "    \n",
    "    y1 = trapz_y[i1]\n",
    "    y2 = trapz_y[i2]\n",
    "    \n",
    "    a = (y2-y1) / (x2-x1)\n",
    "    b = y1 - a * x1\n",
    "    \n",
    "    return a * x + b \n",
    "\n",
    "fig, ax = plt.subplots()\n",
    "\n",
    "ax.plot(t, runge(t),'r-')\n",
    "plt.fill_between(t, 0, runge(t))\n",
    "ax.fill_between(t, trapezoids(t), runge(t), where=runge(t) >= trapezoids(t),\n",
    "                facecolor='yellow', interpolate=True, label=\"under-estimation\")\n",
    "ax.fill_between(t, trapezoids(t), runge(t), where=runge(t) <= trapezoids(t),\n",
    "                facecolor='red', interpolate=True, label=\"over-estimation\")\n",
    "ax.set_xlim(xmin,xmax)\n",
    "ax.set_ylim(-0.1,1.2)\n",
    "plt.xlabel(\"Time\")\n",
    "plt.ylabel(\"$runge(t)$\")\n",
    "plt.title('Errors with the trapezoidal rule') \n",
    "plt.text(0.,0.2,\"{:7.5f}\".format(integ),ha=\"center\")\n",
    "ax.grid()\n",
    "plt.legend()\n",
    "plt.show()"
   ]
  },
  {
   "cell_type": "markdown",
   "metadata": {},
   "source": [
    "# Polynoms\n",
    "\n",
    "In fact, it looks like I'm integrating an easier version of the function.  \n",
    "Last week we learn a way to approximate a function with a polynom.  \n",
    "\n",
    "What happen if\n",
    "1. we take a number of evenly spaced of points,\n",
    "2. use them to approximate the function `runge`\n",
    "3. compute the integral of this polynom\n",
    "\n",
    "First let's write a function `approx_poly(x,y)` that compute the coefficients of the poynom that best approximate this function (remember what we've done last week)"
   ]
  },
  {
   "cell_type": "code",
   "execution_count": null,
   "metadata": {},
   "outputs": [],
   "source": []
  },
  {
   "cell_type": "markdown",
   "metadata": {},
   "source": [
    "Now we need the integrate this polynom.\n",
    "using this formula, this is easily done :\n",
    "$$ \\int_a^b cx^idx = \\left[\\frac{c}{i+1}x^{i+1} \\right]_a^b = \\frac{c}{i+1}b^{i+1} - \\frac{c}{i+1}a^{i+1}$$\n",
    "\n",
    "Write a function `integ_poly(coefs)` that compute the integral bellow a polynom"
   ]
  },
  {
   "cell_type": "code",
   "execution_count": null,
   "metadata": {},
   "outputs": [],
   "source": []
  },
  {
   "cell_type": "markdown",
   "metadata": {},
   "source": [
    "Here is a function that plot graph of the error (similar to what I made before)"
   ]
  },
  {
   "cell_type": "code",
   "execution_count": null,
   "metadata": {},
   "outputs": [],
   "source": [
    "def graph_poly(x, coefs):\n",
    "    fig, ax = plt.subplots()\n",
    "\n",
    "    t = np.arange(xmin, xmax+0.01, 0.01)\n",
    "\n",
    "    ax.plot(t, runge(t),'r-')\n",
    "\n",
    "    ax.plot(t, poly(t, coefs),'k-')\n",
    "    ax.plot(x, poly(x, coefs),'ko')\n",
    "\n",
    "    ax.fill_between(t, poly(t, coefs), runge(t), where=runge(t) >= poly(t, coefs),\n",
    "                    facecolor='yellow', interpolate=True, label=\"under-estimation\")\n",
    "    ax.fill_between(t, poly(t, coefs), runge(t), where=runge(t) <= poly(t, coefs),\n",
    "                    facecolor='red', interpolate=True, label=\"over-estimation\")\n",
    "    \n",
    "    ax.set_xlim(xmin,xmax)\n",
    "    ax.set_ylim(-0.1,1.2)\n",
    "    plt.xlabel(\"Time\")\n",
    "    plt.ylabel(\"$runge(t)$\")\n",
    "    plt.title('Errors with polynoms') \n",
    "    plt.text(0.,0.2,\"{:7.5f}\".format(integ_poly(coefs)),ha=\"center\")\n",
    "    ax.grid()\n",
    "    plt.legend()\n",
    "    plt.show()"
   ]
  },
  {
   "cell_type": "markdown",
   "metadata": {},
   "source": [
    "Try (plot) your function for differents number of points."
   ]
  },
  {
   "cell_type": "code",
   "execution_count": null,
   "metadata": {},
   "outputs": [],
   "source": []
  },
  {
   "cell_type": "markdown",
   "metadata": {},
   "source": [
    "Arg! We still have the instabilities we saw last week.  \n",
    "Maybe redistributing the points will give better results\n",
    "\n",
    "Try (plot) your function for differents number of points with the `new_x` points distribution."
   ]
  },
  {
   "cell_type": "code",
   "execution_count": null,
   "metadata": {},
   "outputs": [],
   "source": [
    "npoints=11\n",
    "old_x = np.linspace(xmin,xmax,npoints)\n",
    "new_x = np.arctan(3*old_x)\n",
    "new_x /= np.max(new_x)\n",
    "\n",
    "# add here what you need to use your method\n"
   ]
  },
  {
   "cell_type": "markdown",
   "metadata": {},
   "source": [
    "Arg this converge sooooo slowly !  \n",
    "This is the main reason why we prefer spline over high order polynomials\n",
    "\n",
    "# Scipy\n",
    "\n",
    "Usually you don't need to write yourself all the algorithms, the python community did that for you !\n",
    "\n",
    "For exemple you might have used scipy.\n",
    "\n",
    "Plot the evolution of the error as a function of the number of iteration for your three methods and romb from scipy.\n"
   ]
  },
  {
   "cell_type": "code",
   "execution_count": null,
   "metadata": {},
   "outputs": [],
   "source": []
  },
  {
   "cell_type": "markdown",
   "metadata": {},
   "source": [
    "<div class=\"alert alert-block alert-danger\">\n",
    "<span style=\"font-size:xx-large;\">\n",
    "    <center>\n",
    "        **Do not forget**\n",
    "    </center>\n",
    "</span>\n",
    "</div>\n",
    "\n",
    "Once all cells have been **filled** and **executed**, save this document as a pdf file (by printing it)  \n",
    "Check that everything is present on the produced pdf  \n",
    "Send **the pdf AND the notebook** to me via Universitice  \n",
    "This will be used to evaluate you.\n",
    "\n",
    "<div class=\"alert alert-block alert-info\">\n",
    "<span style=\"font-size:xx-large;\"><center>That's it for today !</center></span>\n",
    "</div>"
   ]
  },
  {
   "cell_type": "code",
   "execution_count": null,
   "metadata": {},
   "outputs": [],
   "source": []
  }
 ],
 "metadata": {
  "kernelspec": {
   "display_name": "Python 3",
   "language": "python",
   "name": "python3"
  },
  "language_info": {
   "codemirror_mode": {
    "name": "ipython",
    "version": 3
   },
   "file_extension": ".py",
   "mimetype": "text/x-python",
   "name": "python",
   "nbconvert_exporter": "python",
   "pygments_lexer": "ipython3",
   "version": "3.5.2"
  },
  "toc": {
   "base_numbering": 1,
   "nav_menu": {},
   "number_sections": true,
   "sideBar": false,
   "skip_h1_title": false,
   "title_cell": "Table of Contents",
   "title_sidebar": "Contents",
   "toc_cell": false,
   "toc_position": {},
   "toc_section_display": true,
   "toc_window_display": false
  }
 },
 "nbformat": 4,
 "nbformat_minor": 2
}

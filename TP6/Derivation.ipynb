{
 "cells": [
  {
   "cell_type": "markdown",
   "metadata": {},
   "source": [
    "<div class=\"alert alert-block alert-info\">\n",
    "<span style=\"font-size:xx-large;\"><center>Derivation</center></span>\n",
    "</div>\n",
    "\n",
    "Let's go back a litle and do something similar to the interpolation,  \n",
    "Exept that now we would like to compute the derivative of the runge function :\n",
    "$$\\text{runge}(x) = \\frac{1}{1+25x^2}$$\n",
    "\n",
    "And again, I would like to do that knowing only a few values of the runge function.  \n",
    "Define this function `runge(x)`"
   ]
  },
  {
   "cell_type": "code",
   "execution_count": null,
   "metadata": {},
   "outputs": [],
   "source": []
  },
  {
   "cell_type": "markdown",
   "metadata": {},
   "source": [
    "I will not ask you to compute analytically it's derivative (but you should be ablo to do it)  \n",
    "the solution is  \n",
    "$$\\text{runge}'(x) = -\\frac{50 x}{(1 + 25 x^2)^2}$$\n",
    "\n",
    "Define the derivative `drunge(x)`"
   ]
  },
  {
   "cell_type": "code",
   "execution_count": null,
   "metadata": {},
   "outputs": [],
   "source": []
  },
  {
   "cell_type": "markdown",
   "metadata": {},
   "source": [
    "Plot those two functions for $x\\in\\left[-1,1\\right]$"
   ]
  },
  {
   "cell_type": "code",
   "execution_count": null,
   "metadata": {},
   "outputs": [],
   "source": [
    "%matplotlib notebook\n",
    "\n",
    "import numpy as np\n",
    "import matplotlib.pyplot as plt\n",
    "\n",
    "xmin, xmax = -1.0, 1.0\n",
    "\n",
    "t = np.linspace(xmin, xmax, 100)\n",
    "datapoints = np.linspace(xmin, xmax, 21)\n",
    "\n",
    "fig, ax1 = plt.subplots()\n",
    "ax2 = ax1.twinx()\n",
    "\n",
    "f_plt = ax1.plot(t, runge(t), label=\"Runge function\")\n",
    "f_pts = ax1.plot(datapoints, runge(datapoints), 'gx', label=\"Datapoints\",markersize=10)\n",
    "df_plt = ax2.plot(t, drunge(t),'r', label=\"Runge derivative\")\n",
    "\n",
    "ax1.set_xlim(xmin,xmax)\n",
    "ax1.set_xlabel(\"Time\")\n",
    "ax1.set_ylabel(\"$runge(t)$\")\n",
    "ax2.set_ylabel(\"$runge'(t)$\")\n",
    "plt.title('Objective : compute the red function') \n",
    "ax1.grid()\n",
    "\n",
    "lns = f_plt + df_plt + f_pts\n",
    "labs = [l.get_label() for l in lns]\n",
    "plt.legend(lns, labs)\n",
    "\n",
    "plt.show()\n"
   ]
  },
  {
   "cell_type": "markdown",
   "metadata": {},
   "source": [
    "# First order finite difference\n",
    "What's the definition of a derivative ?\n",
    "\n",
    "$$f'(x) = \\lim_{h \\to 0} \\frac{f(x+h) - f(x)}{h}$$\n",
    "\n",
    "Okay, but python doesn't know how to compute a limit...  \n",
    "Lets take $h$ the distance between a point and the next and apply this formula.\n",
    "\n",
    "Define a function `forward_finite_runge(x)` that given $n$ points in `x` return the derivative on the $n-1$ first points"
   ]
  },
  {
   "cell_type": "code",
   "execution_count": null,
   "metadata": {},
   "outputs": [],
   "source": []
  },
  {
   "cell_type": "markdown",
   "metadata": {},
   "source": [
    "We could have taken h as the distance between a point and the previous one.\n",
    "\n",
    "Define a function `backward_finite_drunge(x)` that given $n$ points in `x` return the derivative on the $n-1$ last points"
   ]
  },
  {
   "cell_type": "code",
   "execution_count": null,
   "metadata": {},
   "outputs": [],
   "source": []
  },
  {
   "cell_type": "markdown",
   "metadata": {},
   "source": [
    "In order to make a beautifull graph, let's use the spline method to interpolate the result"
   ]
  },
  {
   "cell_type": "code",
   "execution_count": null,
   "metadata": {},
   "outputs": [],
   "source": [
    "from scipy.interpolate import make_interp_spline\n",
    "\n",
    "forward = make_interp_spline(datapoints[:-1],\n",
    "                             forward_finite_drunge(datapoints),\n",
    "                             k=3)\n",
    "\n",
    "backward = make_interp_spline(datapoints[1:],\n",
    "                              backward_finite_drunge(datapoints),\n",
    "                              k=3)"
   ]
  },
  {
   "cell_type": "markdown",
   "metadata": {},
   "source": [
    "If you correctly wrote your function, the cell bellow should work.  \n",
    "Try with different value for `h`, positive and negative"
   ]
  },
  {
   "cell_type": "code",
   "execution_count": null,
   "metadata": {
    "scrolled": false
   },
   "outputs": [],
   "source": [
    "fig, ax = plt.subplots()\n",
    "\n",
    "ax.plot(t, drunge(t),'k--', label=\"Analytic derivative\")\n",
    "ax.plot(t, forward(t),'-', label=\"Forward finite difference\")\n",
    "ax.plot(t, backward(t),'-', label=\"Backward finite difference\")\n",
    "\n",
    "ax.set_xlim(xmin,xmax)\n",
    "plt.xlabel(\"Time\")\n",
    "plt.ylabel(\"$runge'(t)$\")\n",
    "plt.title('Finite difference derivative (first order)') \n",
    "ax.grid()\n",
    "plt.legend()\n",
    "plt.show()"
   ]
  },
  {
   "cell_type": "markdown",
   "metadata": {},
   "source": [
    "# Second order finite difference\n",
    "\n",
    "We could have taken a different formula.  \n",
    "This one is similar but is also symetrical:\n",
    "$$f'(x) = \\lim_{h \\to 0} \\frac{f(x+h) - f(x-h)}{2h}$$\n",
    "\n",
    "Let's use it, but in order to keep the same number of points, you will use first order formulas for each end points\n",
    "\n",
    "Define a function `second_finite_runge(x)` that given some points in `x` return the derivative on the same points"
   ]
  },
  {
   "cell_type": "code",
   "execution_count": null,
   "metadata": {},
   "outputs": [],
   "source": []
  },
  {
   "cell_type": "markdown",
   "metadata": {},
   "source": [
    "If you correctly wrote your function, the cell bellow should work.  \n",
    "Try with different value for `h`, positive and negative"
   ]
  },
  {
   "cell_type": "code",
   "execution_count": null,
   "metadata": {},
   "outputs": [],
   "source": [
    "fig, ax = plt.subplots()\n",
    "\n",
    "\n",
    "second = make_interp_spline(datapoints,\n",
    "                            second_finite_runge(datapoints),\n",
    "                            k=3)\n",
    "\n",
    "ax.plot(t, drunge(t),'k--', label=\"Analytic derivative\")\n",
    "ax.plot(t, forward(t),'-', label=\"Forward finite difference\")\n",
    "ax.plot(t, second(t),'-', label=\"Second order derivative\")\n",
    "ax.set_xlim(xmin,xmax)\n",
    "plt.xlabel(\"Time\")\n",
    "plt.ylabel(\"$runge'(t)$\")\n",
    "plt.title('Finite difference derivative (second order)') \n",
    "ax.grid()\n",
    "plt.legend()\n",
    "plt.show()"
   ]
  },
  {
   "cell_type": "markdown",
   "metadata": {},
   "source": [
    "# High order finite difference \n",
    "\n",
    "I know an another thing that mix function and its derivatives : the Taylor expension:\n",
    "$$ f(x+h) = f(x) + hf^{(1)}(x) + ... + \\frac{h^n}{n!}f^{(n)}(x) + ...$$\n",
    "\n",
    "Can I use it to compute a derivative with better precision ?\n",
    "$$\n",
    "\\begin{array}{rcccccccccl}\n",
    "f(x+h) &=& f(x) &+& hf^{(1)}(x) &+& \\frac{h^2}{2}f^{(2)}(x) &+& \\frac{h^3}{6}f^{(3)}(x) &+& ...\\\\\n",
    "-(~~f(x-h) &=& f(x) &-& hf^{(1)}(x) &+& \\frac{h^2}{2}f^{(2)}(x) &-& \\frac{h^3}{6}f^{(3)}(x) &+& ...~~)\\\\\n",
    "\\hline\n",
    "       &=& 0    &+& 2hf^{(1)}(x) &+& 0 &+& \\frac{h^3}{3}f^{(3)}(x) &+& ...\n",
    "\\end{array}$$\n",
    "\n",
    "Hey, but if I ignore all the terms $h^n$ for $n>2$, I obtain the previous formula.  \n",
    "What if, using more points (here only two are used : $x+h$ and  $x-h$),  \n",
    "I could nullify more terms thus ignoring less of them ?\n",
    "\n",
    "So I'm looking for a linear combination of some points that will nullify a maximum number of terms.  \n",
    "This is a lot like looking for the coefficients of a polynomial that will go through some points.  \n",
    "In this case we have :\n",
    "- $H = \\begin{bmatrix} h_0 & h_1 & h_2 & ...& h_n\\end{bmatrix}$  \n",
    "- $Y = \\begin{bmatrix} 0 & 1 & 0 & ...&0\\end{bmatrix}$\n",
    "- $M = \\begin{bmatrix}\n",
    "1 & 1 & 1 & ... & 1\\\\\n",
    "h_0 & h_1 & h_2 & ... & h_n\\\\\n",
    "\\frac{h_0^2}{2} & \\frac{h_1^2}{2} & \\frac{h_2^2}{2} & ... & \\frac{h_n^2}{2}\\\\\n",
    "\\vdots & \\vdots & \\vdots& \\ddots & \\vdots\\\\\n",
    "\\frac{h_0^n}{n!} & \\frac{h_1^n}{n!} & \\frac{h_2^n}{n!} & ... & \\frac{h_n^n}{n!}\\\\\n",
    "\\end{bmatrix}$\n",
    "\n",
    "And we are looking to the solution of $MC=Y$, where $C$ contains the coefficients of the linear combination.\n",
    "\n",
    "We will have to do it for **every** points\n",
    "\n",
    "First we need to define a `factorial(n)` function.  \n",
    "Let's do it the reccursive way:\n",
    "- if $n <= 1$ the result is known : $\\text{factorial}(n) = 1$\n",
    "- otherwise we have : $\\text{factorial}(n) = n \\cdot \\text{factorial}(n-1)$"
   ]
  },
  {
   "cell_type": "code",
   "execution_count": null,
   "metadata": {},
   "outputs": [],
   "source": []
  },
  {
   "cell_type": "markdown",
   "metadata": {},
   "source": [
    "Define a function `finite_coef(H, size)` that, given an array of space steps, compute the coefficents as described above"
   ]
  },
  {
   "cell_type": "code",
   "execution_count": null,
   "metadata": {},
   "outputs": [],
   "source": []
  },
  {
   "cell_type": "markdown",
   "metadata": {},
   "source": [
    "We would like to pick `size` points around `i` as symetrical as possible.\n",
    "\n",
    "This is called a stencil\n",
    "\n",
    "Define a function `stencil(i,X,size)` that return two index `inf` and `sup` such that:\n",
    "- $0<= \\text{inf} < \\text{sup} < \\text{len(X)}$\n",
    "- $ \\text{sup} - \\text{inf} = \\text{size}$\n",
    "- $ \\dfrac{\\text{sup}+\\text{inf}}{2}$ is as close as possible to `i`\n"
   ]
  },
  {
   "cell_type": "code",
   "execution_count": null,
   "metadata": {},
   "outputs": [],
   "source": []
  },
  {
   "cell_type": "markdown",
   "metadata": {},
   "source": [
    "At last we can write a function `finite_runge(x, size)` that given some points in `x` return the derivative on the same points computed with `size` points around.  \n",
    "For each point in x, you'll have to\n",
    "1. determine which `size` points to take into account\n",
    "2. extract those points using `X[deb:fin]` (which gives you the array `[X[deb], X[deb+1],...,X[fin-1]]`)\n",
    "3. compute the vector `H`\n",
    "4. compute coefficients of the linear combination\n",
    "5. compute the linear combination\n"
   ]
  },
  {
   "cell_type": "code",
   "execution_count": null,
   "metadata": {},
   "outputs": [],
   "source": []
  },
  {
   "cell_type": "markdown",
   "metadata": {},
   "source": [
    "If you correctly wrote your function, the cell bellow should work.  \n",
    "Try different values for the stencil size"
   ]
  },
  {
   "cell_type": "code",
   "execution_count": null,
   "metadata": {
    "scrolled": false
   },
   "outputs": [],
   "source": [
    "stencil_size = 5\n",
    "\n",
    "fig, ax = plt.subplots()\n",
    "\n",
    "finite = make_interp_spline(datapoints,\n",
    "                            finite_runge(datapoints,stencil_size),\n",
    "                            k=3)\n",
    "\n",
    "ax.plot(t, drunge(t),'k--', label=\"Analytic derivative\")\n",
    "ax.plot(t, forward(t),'-', label=\"Forward finite difference\")\n",
    "ax.plot(t, second(t),'-', label=\"Second order derivative\")\n",
    "ax.plot(t, finite(t),'-', label=\"High order derivative\")\n",
    "ax.set_xlim(xmin,xmax)\n",
    "plt.xlabel(\"Time\")\n",
    "plt.ylabel(\"$runge'(t)$\")\n",
    "plt.title('Finite difference derivative (high order)') \n",
    "ax.grid()\n",
    "plt.legend()\n",
    "plt.show()"
   ]
  },
  {
   "cell_type": "markdown",
   "metadata": {},
   "source": [
    "# Finite elements\n",
    "\n",
    "WARNING : this will not be exactly \"finite elements\" but something very similar.  \n",
    "The objective is to give you a general idea of it\n",
    "\n",
    "Up until here, we only considered the values of the function.  \n",
    "But the interpolation TP showed us that we could obtain some kind of approximation of the function that could be easier to derive.\n",
    "\n",
    "Use `scipy.interpolate.splrep` to compute a spline interpolation of `runge`"
   ]
  },
  {
   "cell_type": "code",
   "execution_count": null,
   "metadata": {},
   "outputs": [],
   "source": []
  },
  {
   "cell_type": "markdown",
   "metadata": {},
   "source": [
    "Use `scipy.interpolate.PPoly` to transform the spline object in something more usable  \n",
    "(In particular use the function `from_spline`)"
   ]
  },
  {
   "cell_type": "code",
   "execution_count": null,
   "metadata": {},
   "outputs": [],
   "source": []
  },
  {
   "cell_type": "markdown",
   "metadata": {},
   "source": [
    "Write a function `ppoly_eval(xp, ppoly)` that will evaluate your piecewise polynomal on the point `xp`.  \n",
    "For that you can use:\n",
    "- `ppoly.x` which is a vector of all breackpoints\n",
    "- `ppoly.c` which is a matrix such that :\n",
    "$$\\begin{align}\n",
    "\\text{spline}(x_p) &= \\sum_{m=0}^\\text{k} c_{m,i} (x_p - x_i)^{k-1-m} &\\text{for}&& x_p \\in \\left[ x_i, x_{i+1}\\right]\n",
    "\\end{align}$$\n",
    "\n",
    "Hint: you can use `ppoly.c.shape` in order to identify the dimensions of the matrix `ppoly.c`"
   ]
  },
  {
   "cell_type": "code",
   "execution_count": null,
   "metadata": {},
   "outputs": [],
   "source": []
  },
  {
   "cell_type": "markdown",
   "metadata": {},
   "source": [
    "If you correctly wrote your functions, the next cell allows you to check that everything is ok so far."
   ]
  },
  {
   "cell_type": "code",
   "execution_count": null,
   "metadata": {},
   "outputs": [],
   "source": [
    "vppoly_eval = np.vectorize(ppoly_eval)\n",
    "\n",
    "fig, ax = plt.subplots()\n",
    "\n",
    "ax.plot(t, runge(t), label=\"Runge function\")\n",
    "ax.plot(t, vppoly_eval(t,ppoly),'r', label=\"Runge spline interpolation\")\n",
    "ax.plot(datapoints, runge(datapoints), 'gx', label=\"Datapoints\",markersize=10)\n",
    "\n",
    "ax.set_xlim(xmin,xmax)\n",
    "ax.set_xlabel(\"Time\")\n",
    "ax.set_ylabel(\"$runge(t)$\")\n",
    "plt.title('Spline interpolation are very good interpolation') \n",
    "ax.grid()\n",
    "\n",
    "plt.legend()\n",
    "\n",
    "plt.show()"
   ]
  },
  {
   "cell_type": "markdown",
   "metadata": {},
   "source": [
    "Write a function `der_ppoly(ppoly)` that derive a ppoly polynom:\n",
    "\n",
    "You can compute a new `c` and a new `x` and construct a ppoly polynom with `PPoly(c,x)`"
   ]
  },
  {
   "cell_type": "code",
   "execution_count": null,
   "metadata": {},
   "outputs": [],
   "source": []
  },
  {
   "cell_type": "markdown",
   "metadata": {},
   "source": [
    "If you correctly wrote your function, the next cell allows you to see the derivative of `runge`"
   ]
  },
  {
   "cell_type": "code",
   "execution_count": null,
   "metadata": {},
   "outputs": [],
   "source": [
    "dpolly = der_ppoly(ppoly)\n",
    "\n",
    "vppoly_eval = np.vectorize(ppoly_eval)\n",
    "\n",
    "fig, ax = plt.subplots()\n",
    "\n",
    "ax.plot(t, drunge(t), label=\"Runge function\")\n",
    "ax.plot(t, vppoly_eval(t,dpolly),'r', label=\"Finite element derivation\")\n",
    "\n",
    "ax.set_xlim(xmin,xmax)\n",
    "ax.set_xlabel(\"Time\")\n",
    "ax.set_ylabel(\"$runge'(t)$\")\n",
    "plt.title('Spline interpolation are very good interpolation') \n",
    "ax.grid()\n",
    "\n",
    "plt.legend()\n",
    "\n",
    "plt.show()"
   ]
  },
  {
   "cell_type": "markdown",
   "metadata": {},
   "source": [
    "<div class=\"alert alert-block alert-danger\">\n",
    "<span style=\"font-size:xx-large;\">\n",
    "    <center>\n",
    "        **Do not forget**\n",
    "    </center>\n",
    "</span>\n",
    "</div>\n",
    "\n",
    "Once all cells have been **filled** and **executed**, save this document as a pdf file (by printing it)  \n",
    "Check that everything is present on the produced pdf  \n",
    "Send **the pdf AND the notebook** to me via Universitice  \n",
    "This will be used to evaluate you.\n",
    "\n",
    "<div class=\"alert alert-block alert-info\">\n",
    "<span style=\"font-size:xx-large;\"><center>That's it for today !</center></span>\n",
    "</div>"
   ]
  },
  {
   "cell_type": "code",
   "execution_count": null,
   "metadata": {},
   "outputs": [],
   "source": []
  }
 ],
 "metadata": {
  "kernelspec": {
   "display_name": "Python 3",
   "language": "python",
   "name": "python3"
  },
  "language_info": {
   "codemirror_mode": {
    "name": "ipython",
    "version": 3
   },
   "file_extension": ".py",
   "mimetype": "text/x-python",
   "name": "python",
   "nbconvert_exporter": "python",
   "pygments_lexer": "ipython3",
   "version": "3.5.2"
  },
  "toc": {
   "base_numbering": 1,
   "nav_menu": {},
   "number_sections": true,
   "sideBar": false,
   "skip_h1_title": false,
   "title_cell": "Table of Contents",
   "title_sidebar": "Contents",
   "toc_cell": false,
   "toc_position": {},
   "toc_section_display": true,
   "toc_window_display": false
  }
 },
 "nbformat": 4,
 "nbformat_minor": 2
}

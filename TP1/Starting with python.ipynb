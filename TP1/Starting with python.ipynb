{
 "cells": [
  {
   "cell_type": "markdown",
   "metadata": {},
   "source": [
    "<div class=\"alert alert-block alert-info\">\n",
    "<span style=\"font-size:xx-large;\"><center>Starting with python</center></span>\n",
    "</div>\n",
    "\n",
    "# Hello World\n",
    "\n",
    "## In an interactive shell\n",
    "\n",
    "1. Open a terminal\n",
    "2. Type `python`\n",
    "3. Write :\n",
    "```python\n",
    "print(\"Hello World !\")\n",
    "```\n",
    "4. Congratulation and welcome in python’s world.\n",
    "5. Quit python `Ctrl‐D`."
   ]
  },
  {
   "cell_type": "markdown",
   "metadata": {},
   "source": [
    "## With a script\n",
    "\n",
    "1. Open a terminal\n",
    "2. Type `gedit hello.py`\n",
    "3. Enter in the text editor : \n",
    "```python\n",
    "print(\"Hello World !\")\n",
    "```\n",
    "4. Save it, close it.\n",
    "5. Type `python hello.py`"
   ]
  },
  {
   "cell_type": "markdown",
   "metadata": {},
   "source": [
    "## In a notebook\n",
    "1. In the cell bellow type :\n",
    "```python\n",
    "print(\"Hello World !\")\n",
    "```\n",
    "3. Exectute the cell with 'Ctrl+Enter'"
   ]
  },
  {
   "cell_type": "code",
   "execution_count": 1,
   "metadata": {},
   "outputs": [
    {
     "name": "stdout",
     "output_type": "stream",
     "text": [
      "Hello World !\n"
     ]
    }
   ],
   "source": [
    "print(\"Hello World !\")"
   ]
  },
  {
   "cell_type": "markdown",
   "metadata": {},
   "source": [
    "**From now on, please stay in the notebook.**"
   ]
  },
  {
   "cell_type": "markdown",
   "metadata": {},
   "source": [
    "# A useful calculator"
   ]
  },
  {
   "cell_type": "markdown",
   "metadata": {},
   "source": [
    "Execute the next cell"
   ]
  },
  {
   "cell_type": "code",
   "execution_count": 2,
   "metadata": {},
   "outputs": [
    {
     "name": "stdout",
     "output_type": "stream",
     "text": [
      "2\n"
     ]
    }
   ],
   "source": [
    "a = 2\n",
    "print(a)"
   ]
  },
  {
   "cell_type": "markdown",
   "metadata": {},
   "source": [
    "The value `2` has been put in variable called `a`"
   ]
  },
  {
   "cell_type": "code",
   "execution_count": 3,
   "metadata": {},
   "outputs": [
    {
     "name": "stdout",
     "output_type": "stream",
     "text": [
      "5\n"
     ]
    }
   ],
   "source": [
    "b = 3\n",
    "c = a + b\n",
    "print(c)"
   ]
  },
  {
   "cell_type": "markdown",
   "metadata": {},
   "source": [
    "It is important to use the function `print` in order to see the result."
   ]
  },
  {
   "cell_type": "markdown",
   "metadata": {},
   "source": [
    "Use this to compute the volume `V` of a sphere of radius `R=2` using `Pi=3.14`.  \n",
    "$$ V = \\frac{4}{3} \\pi r^3 $$\n",
    "Power elevation is made with the operator `**`"
   ]
  },
  {
   "cell_type": "code",
   "execution_count": 4,
   "metadata": {},
   "outputs": [
    {
     "name": "stdout",
     "output_type": "stream",
     "text": [
      "33.49333333333333\n"
     ]
    }
   ],
   "source": [
    "R = 2\n",
    "Pi = 3.14\n",
    "V = (4/3) * Pi * R **3\n",
    "print(V)"
   ]
  },
  {
   "cell_type": "markdown",
   "metadata": {},
   "source": [
    "In the future we would prefer a better value for $\\pi$."
   ]
  },
  {
   "cell_type": "code",
   "execution_count": 5,
   "metadata": {},
   "outputs": [
    {
     "ename": "NameError",
     "evalue": "name 'pi' is not defined",
     "output_type": "error",
     "traceback": [
      "\u001b[0;31m---------------------------------------------------------------------------\u001b[0m",
      "\u001b[0;31mNameError\u001b[0m                                 Traceback (most recent call last)",
      "\u001b[0;32m<ipython-input-5-9e2d2bd32686>\u001b[0m in \u001b[0;36m<module>\u001b[0;34m()\u001b[0m\n\u001b[0;32m----> 1\u001b[0;31m \u001b[0mprint\u001b[0m\u001b[0;34m(\u001b[0m\u001b[0mpi\u001b[0m\u001b[0;34m)\u001b[0m\u001b[0;34m\u001b[0m\u001b[0m\n\u001b[0m",
      "\u001b[0;31mNameError\u001b[0m: name 'pi' is not defined"
     ]
    }
   ],
   "source": [
    "print(pi)"
   ]
  },
  {
   "cell_type": "markdown",
   "metadata": {},
   "source": [
    "Arg ! This is what happen when python is not happy  \n",
    "In this case it is saying that you need to tell him where to find the value of `pi`"
   ]
  },
  {
   "cell_type": "code",
   "execution_count": 6,
   "metadata": {},
   "outputs": [
    {
     "name": "stdout",
     "output_type": "stream",
     "text": [
      "3.141592653589793\n"
     ]
    }
   ],
   "source": [
    "# We import the full math package in the math namespace\n",
    "import math\n",
    "print(math.pi)"
   ]
  },
  {
   "cell_type": "markdown",
   "metadata": {},
   "source": [
    "Or, equivalently :\n",
    "- From the module math we import only the value of pi\n",
    "```python\n",
    "from math import pi\n",
    "print(pi)\n",
    "```\n",
    "- We import the full math package in an another namespace\n",
    "```python\n",
    "import math as ModuleName\n",
    "print(ModuleName.pi)\n",
    "```\n",
    "\n",
    "- From the module math we import only the value pi and name it differently\n",
    "```python\n",
    "from math import pi as tau\n",
    "print(tau)\n",
    "```\n",
    "\n",
    "- We import the full math package in the current namespace\n",
    "```python\n",
    "from math import *\n",
    "print(pi)\n",
    "```"
   ]
  },
  {
   "cell_type": "markdown",
   "metadata": {},
   "source": [
    "<div class=\"alert alert-block alert-danger\">\n",
    "<span style=\"font-size:xx-large;\">\n",
    "    <center>\n",
    "        **Do not use the last method**<br><br>\n",
    "        I will give you penalties if you do !\n",
    "    </center>\n",
    "</span>\n",
    "</div>"
   ]
  },
  {
   "cell_type": "markdown",
   "metadata": {},
   "source": [
    "Python can give you a lot of help"
   ]
  },
  {
   "cell_type": "code",
   "execution_count": 7,
   "metadata": {},
   "outputs": [
    {
     "name": "stdout",
     "output_type": "stream",
     "text": [
      "Help on built-in module math:\n",
      "\n",
      "NAME\n",
      "    math\n",
      "\n",
      "DESCRIPTION\n",
      "    This module is always available.  It provides access to the\n",
      "    mathematical functions defined by the C standard.\n",
      "\n",
      "FUNCTIONS\n",
      "    acos(...)\n",
      "        acos(x)\n",
      "        \n",
      "        Return the arc cosine (measured in radians) of x.\n",
      "    \n",
      "    acosh(...)\n",
      "        acosh(x)\n",
      "        \n",
      "        Return the inverse hyperbolic cosine of x.\n",
      "    \n",
      "    asin(...)\n",
      "        asin(x)\n",
      "        \n",
      "        Return the arc sine (measured in radians) of x.\n",
      "    \n",
      "    asinh(...)\n",
      "        asinh(x)\n",
      "        \n",
      "        Return the inverse hyperbolic sine of x.\n",
      "    \n",
      "    atan(...)\n",
      "        atan(x)\n",
      "        \n",
      "        Return the arc tangent (measured in radians) of x.\n",
      "    \n",
      "    atan2(...)\n",
      "        atan2(y, x)\n",
      "        \n",
      "        Return the arc tangent (measured in radians) of y/x.\n",
      "        Unlike atan(y/x), the signs of both x and y are considered.\n",
      "    \n",
      "    atanh(...)\n",
      "        atanh(x)\n",
      "        \n",
      "        Return the inverse hyperbolic tangent of x.\n",
      "    \n",
      "    ceil(...)\n",
      "        ceil(x)\n",
      "        \n",
      "        Return the ceiling of x as an Integral.\n",
      "        This is the smallest integer >= x.\n",
      "    \n",
      "    copysign(...)\n",
      "        copysign(x, y)\n",
      "        \n",
      "        Return a float with the magnitude (absolute value) of x but the sign \n",
      "        of y. On platforms that support signed zeros, copysign(1.0, -0.0) \n",
      "        returns -1.0.\n",
      "    \n",
      "    cos(...)\n",
      "        cos(x)\n",
      "        \n",
      "        Return the cosine of x (measured in radians).\n",
      "    \n",
      "    cosh(...)\n",
      "        cosh(x)\n",
      "        \n",
      "        Return the hyperbolic cosine of x.\n",
      "    \n",
      "    degrees(...)\n",
      "        degrees(x)\n",
      "        \n",
      "        Convert angle x from radians to degrees.\n",
      "    \n",
      "    erf(...)\n",
      "        erf(x)\n",
      "        \n",
      "        Error function at x.\n",
      "    \n",
      "    erfc(...)\n",
      "        erfc(x)\n",
      "        \n",
      "        Complementary error function at x.\n",
      "    \n",
      "    exp(...)\n",
      "        exp(x)\n",
      "        \n",
      "        Return e raised to the power of x.\n",
      "    \n",
      "    expm1(...)\n",
      "        expm1(x)\n",
      "        \n",
      "        Return exp(x)-1.\n",
      "        This function avoids the loss of precision involved in the direct evaluation of exp(x)-1 for small x.\n",
      "    \n",
      "    fabs(...)\n",
      "        fabs(x)\n",
      "        \n",
      "        Return the absolute value of the float x.\n",
      "    \n",
      "    factorial(...)\n",
      "        factorial(x) -> Integral\n",
      "        \n",
      "        Find x!. Raise a ValueError if x is negative or non-integral.\n",
      "    \n",
      "    floor(...)\n",
      "        floor(x)\n",
      "        \n",
      "        Return the floor of x as an Integral.\n",
      "        This is the largest integer <= x.\n",
      "    \n",
      "    fmod(...)\n",
      "        fmod(x, y)\n",
      "        \n",
      "        Return fmod(x, y), according to platform C.  x % y may differ.\n",
      "    \n",
      "    frexp(...)\n",
      "        frexp(x)\n",
      "        \n",
      "        Return the mantissa and exponent of x, as pair (m, e).\n",
      "        m is a float and e is an int, such that x = m * 2.**e.\n",
      "        If x is 0, m and e are both 0.  Else 0.5 <= abs(m) < 1.0.\n",
      "    \n",
      "    fsum(...)\n",
      "        fsum(iterable)\n",
      "        \n",
      "        Return an accurate floating point sum of values in the iterable.\n",
      "        Assumes IEEE-754 floating point arithmetic.\n",
      "    \n",
      "    gamma(...)\n",
      "        gamma(x)\n",
      "        \n",
      "        Gamma function at x.\n",
      "    \n",
      "    gcd(...)\n",
      "        gcd(x, y) -> int\n",
      "        greatest common divisor of x and y\n",
      "    \n",
      "    hypot(...)\n",
      "        hypot(x, y)\n",
      "        \n",
      "        Return the Euclidean distance, sqrt(x*x + y*y).\n",
      "    \n",
      "    isclose(...)\n",
      "        isclose(a, b, *, rel_tol=1e-09, abs_tol=0.0) -> bool\n",
      "        \n",
      "        Determine whether two floating point numbers are close in value.\n",
      "        \n",
      "           rel_tol\n",
      "               maximum difference for being considered \"close\", relative to the\n",
      "               magnitude of the input values\n",
      "            abs_tol\n",
      "               maximum difference for being considered \"close\", regardless of the\n",
      "               magnitude of the input values\n",
      "        \n",
      "        Return True if a is close in value to b, and False otherwise.\n",
      "        \n",
      "        For the values to be considered close, the difference between them\n",
      "        must be smaller than at least one of the tolerances.\n",
      "        \n",
      "        -inf, inf and NaN behave similarly to the IEEE 754 Standard.  That\n",
      "        is, NaN is not close to anything, even itself.  inf and -inf are\n",
      "        only close to themselves.\n",
      "    \n",
      "    isfinite(...)\n",
      "        isfinite(x) -> bool\n",
      "        \n",
      "        Return True if x is neither an infinity nor a NaN, and False otherwise.\n",
      "    \n",
      "    isinf(...)\n",
      "        isinf(x) -> bool\n",
      "        \n",
      "        Return True if x is a positive or negative infinity, and False otherwise.\n",
      "    \n",
      "    isnan(...)\n",
      "        isnan(x) -> bool\n",
      "        \n",
      "        Return True if x is a NaN (not a number), and False otherwise.\n",
      "    \n",
      "    ldexp(...)\n",
      "        ldexp(x, i)\n",
      "        \n",
      "        Return x * (2**i).\n",
      "    \n",
      "    lgamma(...)\n",
      "        lgamma(x)\n",
      "        \n",
      "        Natural logarithm of absolute value of Gamma function at x.\n",
      "    \n",
      "    log(...)\n",
      "        log(x[, base])\n",
      "        \n",
      "        Return the logarithm of x to the given base.\n",
      "        If the base not specified, returns the natural logarithm (base e) of x.\n",
      "    \n",
      "    log10(...)\n",
      "        log10(x)\n",
      "        \n",
      "        Return the base 10 logarithm of x.\n",
      "    \n",
      "    log1p(...)\n",
      "        log1p(x)\n",
      "        \n",
      "        Return the natural logarithm of 1+x (base e).\n",
      "        The result is computed in a way which is accurate for x near zero.\n",
      "    \n",
      "    log2(...)\n",
      "        log2(x)\n",
      "        \n",
      "        Return the base 2 logarithm of x.\n",
      "    \n",
      "    modf(...)\n",
      "        modf(x)\n",
      "        \n",
      "        Return the fractional and integer parts of x.  Both results carry the sign\n",
      "        of x and are floats.\n",
      "    \n",
      "    pow(...)\n",
      "        pow(x, y)\n",
      "        \n",
      "        Return x**y (x to the power of y).\n",
      "    \n",
      "    radians(...)\n",
      "        radians(x)\n",
      "        \n",
      "        Convert angle x from degrees to radians.\n",
      "    \n",
      "    sin(...)\n",
      "        sin(x)\n",
      "        \n",
      "        Return the sine of x (measured in radians).\n",
      "    \n",
      "    sinh(...)\n",
      "        sinh(x)\n",
      "        \n",
      "        Return the hyperbolic sine of x.\n",
      "    \n",
      "    sqrt(...)\n",
      "        sqrt(x)\n",
      "        \n",
      "        Return the square root of x.\n",
      "    \n",
      "    tan(...)\n",
      "        tan(x)\n",
      "        \n",
      "        Return the tangent of x (measured in radians).\n",
      "    \n",
      "    tanh(...)\n",
      "        tanh(x)\n",
      "        \n",
      "        Return the hyperbolic tangent of x.\n",
      "    \n",
      "    trunc(...)\n",
      "        trunc(x:Real) -> Integral\n",
      "        \n",
      "        Truncates x to the nearest Integral toward 0. Uses the __trunc__ magic method.\n",
      "\n",
      "DATA\n",
      "    e = 2.718281828459045\n",
      "    inf = inf\n",
      "    nan = nan\n",
      "    pi = 3.141592653589793\n",
      "\n",
      "FILE\n",
      "    (built-in)\n",
      "\n",
      "\n"
     ]
    }
   ],
   "source": [
    "help(math)"
   ]
  },
  {
   "cell_type": "markdown",
   "metadata": {},
   "source": [
    "Find and test some other mathematical functions:"
   ]
  },
  {
   "cell_type": "code",
   "execution_count": 8,
   "metadata": {},
   "outputs": [
    {
     "name": "stdout",
     "output_type": "stream",
     "text": [
      "0.0\n"
     ]
    }
   ],
   "source": [
    "print(math.acos(math.sqrt(2)/2) - math.pi/4)"
   ]
  },
  {
   "cell_type": "markdown",
   "metadata": {},
   "source": [
    "What is the value of $\\cos\\left(\\pi + \\arccos(\\sqrt{2}-1)\\right)$ ?"
   ]
  },
  {
   "cell_type": "code",
   "execution_count": 9,
   "metadata": {},
   "outputs": [
    {
     "name": "stdout",
     "output_type": "stream",
     "text": [
      "-0.41421356237309487\n"
     ]
    }
   ],
   "source": [
    "print(math.cos(math.pi + math.acos(math.sqrt(2)-1)))"
   ]
  },
  {
   "cell_type": "markdown",
   "metadata": {},
   "source": [
    "# Root of second order polynomial\n",
    "\n",
    "We are looking to the solutions of the equation $2x^2 + 5x - 2 = 0$\n",
    "\n",
    "First create three variables `a`, `b` and `c` such that:\n",
    "$$ a = 2 $$\n",
    "$$ b = 5 $$\n",
    "$$ c = -2 $$"
   ]
  },
  {
   "cell_type": "code",
   "execution_count": 10,
   "metadata": {},
   "outputs": [],
   "source": [
    "a = 2\n",
    "b = 5\n",
    "c = -2"
   ]
  },
  {
   "cell_type": "markdown",
   "metadata": {},
   "source": [
    "Compute the quantity $\\Delta = b^2 - 4ac$"
   ]
  },
  {
   "cell_type": "code",
   "execution_count": 11,
   "metadata": {},
   "outputs": [
    {
     "name": "stdout",
     "output_type": "stream",
     "text": [
      "41\n"
     ]
    }
   ],
   "source": [
    "Δ = b ** 2 - 4 * a *c\n",
    "print(Δ)"
   ]
  },
  {
   "cell_type": "markdown",
   "metadata": {},
   "source": [
    "Compute the to solutions $x_1$ and $x_2$\n",
    "$$ x_1 = \\frac{-b + \\sqrt{\\Delta}}{2a} $$\n",
    "$$ x_2 = \\frac{-b - \\sqrt{\\Delta}}{2a} $$"
   ]
  },
  {
   "cell_type": "code",
   "execution_count": 12,
   "metadata": {},
   "outputs": [
    {
     "name": "stdout",
     "output_type": "stream",
     "text": [
      "0.35078105935821213 -2.850781059358212\n"
     ]
    }
   ],
   "source": [
    "x1 = (-b + math.sqrt(Δ))/(2 * a)\n",
    "x2 = (-b - math.sqrt(Δ))/(2 * a)\n",
    "print(x1, x2)"
   ]
  },
  {
   "cell_type": "markdown",
   "metadata": {},
   "source": [
    "Check that they are solution by computing:\n",
    "$$2x_1^2 + 5x_1 - 2$$\n",
    "$$2x_2^2 + 5x_2 - 2$$"
   ]
  },
  {
   "cell_type": "code",
   "execution_count": 13,
   "metadata": {},
   "outputs": [
    {
     "name": "stdout",
     "output_type": "stream",
     "text": [
      "-2.220446049250313e-16\n",
      "0.0\n"
     ]
    }
   ],
   "source": [
    "print(2*x1**2 + 5*x1 -2)\n",
    "print(2*x2**2 + 5*x2 -2)"
   ]
  },
  {
   "cell_type": "markdown",
   "metadata": {},
   "source": [
    "Find the solutions of the equation $x^2 + 3x - 3.5 = 0$"
   ]
  },
  {
   "cell_type": "code",
   "execution_count": 14,
   "metadata": {},
   "outputs": [
    {
     "name": "stdout",
     "output_type": "stream",
     "text": [
      "0.8979157616563596 -3.8979157616563596\n"
     ]
    }
   ],
   "source": [
    "a = 1\n",
    "b = 3\n",
    "c = -3.5\n",
    "Δ = b ** 2 - 4 * a *c\n",
    "x1 = (-b + math.sqrt(Δ))/(2 * a)\n",
    "x2 = (-b - math.sqrt(Δ))/(2 * a)\n",
    "print(x1, x2)"
   ]
  },
  {
   "cell_type": "markdown",
   "metadata": {},
   "source": [
    "# Functions and loops\n",
    "\n",
    "You may have notice that it is boring to write several times the same equation.   \n",
    "Computers are not smart but they are very enthusiastic to repeat something they have done already.\n",
    "\n",
    "Suppose that I want to write 100 times ‘Hello World !’.  \n",
    "I can write it one time and ask the computer to do it 100 times this way: "
   ]
  },
  {
   "cell_type": "code",
   "execution_count": 15,
   "metadata": {},
   "outputs": [
    {
     "name": "stdout",
     "output_type": "stream",
     "text": [
      "Hello World !\n",
      "i= 0\n",
      "Hello World !\n",
      "i= 1\n",
      "Hello World !\n",
      "i= 2\n",
      "Hello World !\n",
      "i= 3\n",
      "Hello World !\n",
      "i= 4\n",
      "Hello World !\n",
      "i= 5\n",
      "Hello World !\n",
      "i= 6\n",
      "Hello World !\n",
      "i= 7\n",
      "Hello World !\n",
      "i= 8\n",
      "Hello World !\n",
      "i= 9\n",
      "Hello World !\n",
      "i= 10\n",
      "Hello World !\n",
      "i= 11\n",
      "Hello World !\n",
      "i= 12\n",
      "Hello World !\n",
      "i= 13\n",
      "Hello World !\n",
      "i= 14\n",
      "Hello World !\n",
      "i= 15\n",
      "Hello World !\n",
      "i= 16\n",
      "Hello World !\n",
      "i= 17\n",
      "Hello World !\n",
      "i= 18\n",
      "Hello World !\n",
      "i= 19\n",
      "Hello World !\n",
      "i= 20\n",
      "Hello World !\n",
      "i= 21\n",
      "Hello World !\n",
      "i= 22\n",
      "Hello World !\n",
      "i= 23\n",
      "Hello World !\n",
      "i= 24\n",
      "Hello World !\n",
      "i= 25\n",
      "Hello World !\n",
      "i= 26\n",
      "Hello World !\n",
      "i= 27\n",
      "Hello World !\n",
      "i= 28\n",
      "Hello World !\n",
      "i= 29\n",
      "Hello World !\n",
      "i= 30\n",
      "Hello World !\n",
      "i= 31\n",
      "Hello World !\n",
      "i= 32\n",
      "Hello World !\n",
      "i= 33\n",
      "Hello World !\n",
      "i= 34\n",
      "Hello World !\n",
      "i= 35\n",
      "Hello World !\n",
      "i= 36\n",
      "Hello World !\n",
      "i= 37\n",
      "Hello World !\n",
      "i= 38\n",
      "Hello World !\n",
      "i= 39\n",
      "Hello World !\n",
      "i= 40\n",
      "Hello World !\n",
      "i= 41\n",
      "Hello World !\n",
      "i= 42\n",
      "Hello World !\n",
      "i= 43\n",
      "Hello World !\n",
      "i= 44\n",
      "Hello World !\n",
      "i= 45\n",
      "Hello World !\n",
      "i= 46\n",
      "Hello World !\n",
      "i= 47\n",
      "Hello World !\n",
      "i= 48\n",
      "Hello World !\n",
      "i= 49\n",
      "Hello World !\n",
      "i= 50\n",
      "Hello World !\n",
      "i= 51\n",
      "Hello World !\n",
      "i= 52\n",
      "Hello World !\n",
      "i= 53\n",
      "Hello World !\n",
      "i= 54\n",
      "Hello World !\n",
      "i= 55\n",
      "Hello World !\n",
      "i= 56\n",
      "Hello World !\n",
      "i= 57\n",
      "Hello World !\n",
      "i= 58\n",
      "Hello World !\n",
      "i= 59\n",
      "Hello World !\n",
      "i= 60\n",
      "Hello World !\n",
      "i= 61\n",
      "Hello World !\n",
      "i= 62\n",
      "Hello World !\n",
      "i= 63\n",
      "Hello World !\n",
      "i= 64\n",
      "Hello World !\n",
      "i= 65\n",
      "Hello World !\n",
      "i= 66\n",
      "Hello World !\n",
      "i= 67\n",
      "Hello World !\n",
      "i= 68\n",
      "Hello World !\n",
      "i= 69\n",
      "Hello World !\n",
      "i= 70\n",
      "Hello World !\n",
      "i= 71\n",
      "Hello World !\n",
      "i= 72\n",
      "Hello World !\n",
      "i= 73\n",
      "Hello World !\n",
      "i= 74\n",
      "Hello World !\n",
      "i= 75\n",
      "Hello World !\n",
      "i= 76\n",
      "Hello World !\n",
      "i= 77\n",
      "Hello World !\n",
      "i= 78\n",
      "Hello World !\n",
      "i= 79\n",
      "Hello World !\n",
      "i= 80\n",
      "Hello World !\n",
      "i= 81\n",
      "Hello World !\n",
      "i= 82\n",
      "Hello World !\n",
      "i= 83\n",
      "Hello World !\n",
      "i= 84\n",
      "Hello World !\n",
      "i= 85\n",
      "Hello World !\n",
      "i= 86\n",
      "Hello World !\n",
      "i= 87\n",
      "Hello World !\n",
      "i= 88\n",
      "Hello World !\n",
      "i= 89\n",
      "Hello World !\n",
      "i= 90\n",
      "Hello World !\n",
      "i= 91\n",
      "Hello World !\n",
      "i= 92\n",
      "Hello World !\n",
      "i= 93\n",
      "Hello World !\n",
      "i= 94\n",
      "Hello World !\n",
      "i= 95\n",
      "Hello World !\n",
      "i= 96\n",
      "Hello World !\n",
      "i= 97\n",
      "Hello World !\n",
      "i= 98\n",
      "Hello World !\n",
      "i= 99\n"
     ]
    }
   ],
   "source": [
    "def one_hello():\n",
    "    print('Hello World !')\n",
    "\n",
    "for i in range(100):\n",
    "    one_hello()\n",
    "    print('i=', i)"
   ]
  },
  {
   "cell_type": "markdown",
   "metadata": {},
   "source": [
    "Or this way: "
   ]
  },
  {
   "cell_type": "code",
   "execution_count": 16,
   "metadata": {},
   "outputs": [
    {
     "name": "stdout",
     "output_type": "stream",
     "text": [
      "Hello World !\n",
      "i= 0\n",
      "Hello World !\n",
      "i= 1\n",
      "Hello World !\n",
      "i= 2\n",
      "Hello World !\n",
      "i= 3\n",
      "Hello World !\n",
      "i= 4\n",
      "Hello World !\n",
      "i= 5\n",
      "Hello World !\n",
      "i= 6\n",
      "Hello World !\n",
      "i= 7\n",
      "Hello World !\n",
      "i= 8\n",
      "Hello World !\n",
      "i= 9\n",
      "Hello World !\n",
      "i= 10\n",
      "Hello World !\n",
      "i= 11\n",
      "Hello World !\n",
      "i= 12\n",
      "Hello World !\n",
      "i= 13\n",
      "Hello World !\n",
      "i= 14\n",
      "Hello World !\n",
      "i= 15\n",
      "Hello World !\n",
      "i= 16\n",
      "Hello World !\n",
      "i= 17\n",
      "Hello World !\n",
      "i= 18\n",
      "Hello World !\n",
      "i= 19\n",
      "Hello World !\n",
      "i= 20\n",
      "Hello World !\n",
      "i= 21\n",
      "Hello World !\n",
      "i= 22\n",
      "Hello World !\n",
      "i= 23\n",
      "Hello World !\n",
      "i= 24\n",
      "Hello World !\n",
      "i= 25\n",
      "Hello World !\n",
      "i= 26\n",
      "Hello World !\n",
      "i= 27\n",
      "Hello World !\n",
      "i= 28\n",
      "Hello World !\n",
      "i= 29\n",
      "Hello World !\n",
      "i= 30\n",
      "Hello World !\n",
      "i= 31\n",
      "Hello World !\n",
      "i= 32\n",
      "Hello World !\n",
      "i= 33\n",
      "Hello World !\n",
      "i= 34\n",
      "Hello World !\n",
      "i= 35\n",
      "Hello World !\n",
      "i= 36\n",
      "Hello World !\n",
      "i= 37\n",
      "Hello World !\n",
      "i= 38\n",
      "Hello World !\n",
      "i= 39\n",
      "Hello World !\n",
      "i= 40\n",
      "Hello World !\n",
      "i= 41\n",
      "Hello World !\n",
      "i= 42\n",
      "Hello World !\n",
      "i= 43\n",
      "Hello World !\n",
      "i= 44\n",
      "Hello World !\n",
      "i= 45\n",
      "Hello World !\n",
      "i= 46\n",
      "Hello World !\n",
      "i= 47\n",
      "Hello World !\n",
      "i= 48\n",
      "Hello World !\n",
      "i= 49\n",
      "Hello World !\n",
      "i= 50\n",
      "Hello World !\n",
      "i= 51\n",
      "Hello World !\n",
      "i= 52\n",
      "Hello World !\n",
      "i= 53\n",
      "Hello World !\n",
      "i= 54\n",
      "Hello World !\n",
      "i= 55\n",
      "Hello World !\n",
      "i= 56\n",
      "Hello World !\n",
      "i= 57\n",
      "Hello World !\n",
      "i= 58\n",
      "Hello World !\n",
      "i= 59\n",
      "Hello World !\n",
      "i= 60\n",
      "Hello World !\n",
      "i= 61\n",
      "Hello World !\n",
      "i= 62\n",
      "Hello World !\n",
      "i= 63\n",
      "Hello World !\n",
      "i= 64\n",
      "Hello World !\n",
      "i= 65\n",
      "Hello World !\n",
      "i= 66\n",
      "Hello World !\n",
      "i= 67\n",
      "Hello World !\n",
      "i= 68\n",
      "Hello World !\n",
      "i= 69\n",
      "Hello World !\n",
      "i= 70\n",
      "Hello World !\n",
      "i= 71\n",
      "Hello World !\n",
      "i= 72\n",
      "Hello World !\n",
      "i= 73\n",
      "Hello World !\n",
      "i= 74\n",
      "Hello World !\n",
      "i= 75\n",
      "Hello World !\n",
      "i= 76\n",
      "Hello World !\n",
      "i= 77\n",
      "Hello World !\n",
      "i= 78\n",
      "Hello World !\n",
      "i= 79\n",
      "Hello World !\n",
      "i= 80\n",
      "Hello World !\n",
      "i= 81\n",
      "Hello World !\n",
      "i= 82\n",
      "Hello World !\n",
      "i= 83\n",
      "Hello World !\n",
      "i= 84\n",
      "Hello World !\n",
      "i= 85\n",
      "Hello World !\n",
      "i= 86\n",
      "Hello World !\n",
      "i= 87\n",
      "Hello World !\n",
      "i= 88\n",
      "Hello World !\n",
      "i= 89\n",
      "Hello World !\n",
      "i= 90\n",
      "Hello World !\n",
      "i= 91\n",
      "Hello World !\n",
      "i= 92\n",
      "Hello World !\n",
      "i= 93\n",
      "Hello World !\n",
      "i= 94\n",
      "Hello World !\n",
      "i= 95\n",
      "Hello World !\n",
      "i= 96\n",
      "Hello World !\n",
      "i= 97\n",
      "Hello World !\n",
      "i= 98\n",
      "Hello World !\n",
      "i= 99\n"
     ]
    }
   ],
   "source": [
    "def hundredHello():\n",
    "    for i in range(100):\n",
    "        print('Hello World !')\n",
    "        print('i=', i)\n",
    "\n",
    "hundredHello()"
   ]
  },
  {
   "cell_type": "markdown",
   "metadata": {},
   "source": [
    "You may want to do it n times:"
   ]
  },
  {
   "cell_type": "code",
   "execution_count": 17,
   "metadata": {
    "scrolled": true
   },
   "outputs": [
    {
     "name": "stdout",
     "output_type": "stream",
     "text": [
      "Hello World !\n",
      "i= 0\n",
      "Hello World !\n",
      "i= 1\n",
      "Hello World !\n",
      "i= 2\n",
      "Hello World !\n",
      "i= 3\n",
      "Hello World !\n",
      "i= 4\n",
      "Hello World !\n",
      "i= 5\n",
      "Hello World !\n",
      "i= 6\n",
      "Hello World !\n",
      "i= 7\n",
      "Hello World !\n",
      "i= 8\n",
      "Hello World !\n",
      "i= 9\n",
      "Hello World !\n",
      "i= 10\n",
      "Hello World !\n",
      "i= 11\n",
      "Hello World !\n",
      "i= 12\n",
      "Hello World !\n",
      "i= 13\n",
      "Hello World !\n",
      "i= 14\n",
      "Hello World !\n",
      "i= 15\n",
      "Hello World !\n",
      "i= 16\n",
      "Hello World !\n",
      "i= 17\n",
      "Hello World !\n",
      "i= 18\n",
      "Hello World !\n",
      "i= 19\n"
     ]
    }
   ],
   "source": [
    "def nHello(nPrint):\n",
    "    for i in range(nPrint):\n",
    "        print('Hello World !')\n",
    "        print('i=', i)\n",
    "        \n",
    "nHello(20)\n",
    " "
   ]
  },
  {
   "cell_type": "markdown",
   "metadata": {},
   "source": [
    "## Root\tof\tsecond\torder\tpolynomial\twith\tfunction\t\n",
    "\n",
    "Define a function `Pscnd(x, a, b, c)` that gives the value of second order polynomial:\n",
    "$$ P(x)=ax^2 + bx + c $$"
   ]
  },
  {
   "cell_type": "code",
   "execution_count": 18,
   "metadata": {},
   "outputs": [],
   "source": [
    "def Pscnd(x, a, b, c):\n",
    "    return a*x**2 + b*x +c"
   ]
  },
  {
   "cell_type": "markdown",
   "metadata": {},
   "source": [
    "Define a function `Proot(a, b, c)` that compute the roots the the polynomial $ax^2 +bx+c$ using the same method as before"
   ]
  },
  {
   "cell_type": "code",
   "execution_count": 19,
   "metadata": {},
   "outputs": [],
   "source": [
    "def Proot(a,b,c):\n",
    "    Δ = b ** 2 - 4 * a *c\n",
    "    x1 = (-b + math.sqrt(Δ))/(2 * a)\n",
    "    x2 = (-b - math.sqrt(Δ))/(2 * a)\n",
    "    return x1, x2"
   ]
  },
  {
   "cell_type": "markdown",
   "metadata": {},
   "source": [
    "Check your two functions with the polynoms\n",
    "$$2x^2 + 5x - 2 = 0$$\n",
    "$$x^2 + 3x - 3.5 = 0$$\n",
    "You must obtain the same result as before"
   ]
  },
  {
   "cell_type": "code",
   "execution_count": 20,
   "metadata": {},
   "outputs": [
    {
     "name": "stdout",
     "output_type": "stream",
     "text": [
      "(0.35078105935821213, -2.850781059358212)\n",
      "(0.8979157616563596, -3.8979157616563596)\n"
     ]
    }
   ],
   "source": [
    "print(Proot(2, 5, -2))\n",
    "print(Proot(1, 3, -3.5))"
   ]
  },
  {
   "cell_type": "markdown",
   "metadata": {},
   "source": [
    "What happen with your function and the polynom $-x^2 + 3x - 3.5 =0$ ?"
   ]
  },
  {
   "cell_type": "code",
   "execution_count": 21,
   "metadata": {},
   "outputs": [
    {
     "ename": "ValueError",
     "evalue": "math domain error",
     "output_type": "error",
     "traceback": [
      "\u001b[0;31m---------------------------------------------------------------------------\u001b[0m",
      "\u001b[0;31mValueError\u001b[0m                                Traceback (most recent call last)",
      "\u001b[0;32m<ipython-input-21-2336f78b6359>\u001b[0m in \u001b[0;36m<module>\u001b[0;34m()\u001b[0m\n\u001b[0;32m----> 1\u001b[0;31m \u001b[0mprint\u001b[0m\u001b[0;34m(\u001b[0m\u001b[0mProot\u001b[0m\u001b[0;34m(\u001b[0m\u001b[0;34m-\u001b[0m\u001b[0;36m1\u001b[0m\u001b[0;34m,\u001b[0m \u001b[0;34m+\u001b[0m\u001b[0;36m3\u001b[0m\u001b[0;34m,\u001b[0m \u001b[0;34m-\u001b[0m\u001b[0;36m3.5\u001b[0m\u001b[0;34m)\u001b[0m\u001b[0;34m)\u001b[0m\u001b[0;34m\u001b[0m\u001b[0m\n\u001b[0m",
      "\u001b[0;32m<ipython-input-19-cacfe6e9468d>\u001b[0m in \u001b[0;36mProot\u001b[0;34m(a, b, c)\u001b[0m\n\u001b[1;32m      1\u001b[0m \u001b[0;32mdef\u001b[0m \u001b[0mProot\u001b[0m\u001b[0;34m(\u001b[0m\u001b[0ma\u001b[0m\u001b[0;34m,\u001b[0m\u001b[0mb\u001b[0m\u001b[0;34m,\u001b[0m\u001b[0mc\u001b[0m\u001b[0;34m)\u001b[0m\u001b[0;34m:\u001b[0m\u001b[0;34m\u001b[0m\u001b[0m\n\u001b[1;32m      2\u001b[0m     \u001b[0mΔ\u001b[0m \u001b[0;34m=\u001b[0m \u001b[0mb\u001b[0m \u001b[0;34m**\u001b[0m \u001b[0;36m2\u001b[0m \u001b[0;34m-\u001b[0m \u001b[0;36m4\u001b[0m \u001b[0;34m*\u001b[0m \u001b[0ma\u001b[0m \u001b[0;34m*\u001b[0m\u001b[0mc\u001b[0m\u001b[0;34m\u001b[0m\u001b[0m\n\u001b[0;32m----> 3\u001b[0;31m     \u001b[0mx1\u001b[0m \u001b[0;34m=\u001b[0m \u001b[0;34m(\u001b[0m\u001b[0;34m-\u001b[0m\u001b[0mb\u001b[0m \u001b[0;34m+\u001b[0m \u001b[0mmath\u001b[0m\u001b[0;34m.\u001b[0m\u001b[0msqrt\u001b[0m\u001b[0;34m(\u001b[0m\u001b[0mΔ\u001b[0m\u001b[0;34m)\u001b[0m\u001b[0;34m)\u001b[0m\u001b[0;34m/\u001b[0m\u001b[0;34m(\u001b[0m\u001b[0;36m2\u001b[0m \u001b[0;34m*\u001b[0m \u001b[0ma\u001b[0m\u001b[0;34m)\u001b[0m\u001b[0;34m\u001b[0m\u001b[0m\n\u001b[0m\u001b[1;32m      4\u001b[0m     \u001b[0mx2\u001b[0m \u001b[0;34m=\u001b[0m \u001b[0;34m(\u001b[0m\u001b[0;34m-\u001b[0m\u001b[0mb\u001b[0m \u001b[0;34m-\u001b[0m \u001b[0mmath\u001b[0m\u001b[0;34m.\u001b[0m\u001b[0msqrt\u001b[0m\u001b[0;34m(\u001b[0m\u001b[0mΔ\u001b[0m\u001b[0;34m)\u001b[0m\u001b[0;34m)\u001b[0m\u001b[0;34m/\u001b[0m\u001b[0;34m(\u001b[0m\u001b[0;36m2\u001b[0m \u001b[0;34m*\u001b[0m \u001b[0ma\u001b[0m\u001b[0;34m)\u001b[0m\u001b[0;34m\u001b[0m\u001b[0m\n\u001b[1;32m      5\u001b[0m     \u001b[0;32mreturn\u001b[0m \u001b[0mx1\u001b[0m\u001b[0;34m,\u001b[0m \u001b[0mx2\u001b[0m\u001b[0;34m\u001b[0m\u001b[0m\n",
      "\u001b[0;31mValueError\u001b[0m: math domain error"
     ]
    }
   ],
   "source": [
    "print(Proot(-1, +3, -3.5))\n"
   ]
  },
  {
   "cell_type": "markdown",
   "metadata": {},
   "source": [
    "The equivalent to the package `math` for complex number is `cmath`.\n",
    "\n",
    "Define `cmplxProot` that works for this new polynom "
   ]
  },
  {
   "cell_type": "code",
   "execution_count": 22,
   "metadata": {},
   "outputs": [
    {
     "name": "stdout",
     "output_type": "stream",
     "text": [
      "((1.5-1.118033988749895j), (1.5+1.118033988749895j))\n"
     ]
    }
   ],
   "source": [
    "import cmath\n",
    "def cmplxProot(a,b,c):\n",
    "    Δ = b ** 2 - 4 * a *c\n",
    "    x1 = (-b + cmath.sqrt(Δ))/(2 * a)\n",
    "    x2 = (-b - cmath.sqrt(Δ))/(2 * a)\n",
    "    return x1, x2\n",
    "print(cmplxProot(-1, +3, -3.5))\n"
   ]
  },
  {
   "cell_type": "markdown",
   "metadata": {},
   "source": [
    "<div class=\"alert alert-block alert-danger\">\n",
    "<span style=\"font-size:xx-large;\">\n",
    "    <center>\n",
    "        **Do not forget**\n",
    "    </center>\n",
    "</span>\n",
    "</div>\n",
    "\n",
    "Once all cells have been **filled** and **executed**, save this document as a pdf file (by printing it)  \n",
    "Check that everything is present on the produced pdf  \n",
    "Send **the pdf AND the notebook** to me via Universitice  \n",
    "This will be used to evaluate you.\n",
    "\n",
    "<div class=\"alert alert-block alert-info\">\n",
    "<span style=\"font-size:xx-large;\"><center>That's it for today !</center></span>\n",
    "</div>"
   ]
  },
  {
   "cell_type": "code",
   "execution_count": null,
   "metadata": {},
   "outputs": [],
   "source": []
  }
 ],
 "metadata": {
  "kernelspec": {
   "display_name": "Python 3",
   "language": "python",
   "name": "python3"
  },
  "language_info": {
   "codemirror_mode": {
    "name": "ipython",
    "version": 3
   },
   "file_extension": ".py",
   "mimetype": "text/x-python",
   "name": "python",
   "nbconvert_exporter": "python",
   "pygments_lexer": "ipython3",
   "version": "3.5.2"
  },
  "toc": {
   "base_numbering": "1",
   "nav_menu": {
    "height": "217px",
    "width": "226px"
   },
   "number_sections": true,
   "sideBar": false,
   "skip_h1_title": false,
   "title_cell": "Table of Contents",
   "title_sidebar": "Contents",
   "toc_cell": false,
   "toc_position": {},
   "toc_section_display": true,
   "toc_window_display": false
  }
 },
 "nbformat": 4,
 "nbformat_minor": 2
}

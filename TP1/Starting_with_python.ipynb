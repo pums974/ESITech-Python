{
  "nbformat": 4,
  "nbformat_minor": 0,
  "metadata": {
    "colab": {
      "name": "Starting with python.ipynb",
      "version": "0.3.2",
      "provenance": [],
      "collapsed_sections": [],
      "toc_visible": true,
      "include_colab_link": true
    },
    "kernelspec": {
      "display_name": "Python 3",
      "language": "python",
      "name": "python3"
    }
  },
  "cells": [
    {
      "cell_type": "markdown",
      "metadata": {
        "id": "view-in-github",
        "colab_type": "text"
      },
      "source": [
        "<a href=\"https://colab.research.google.com/github/pums974/ESITech-Python/blob/master/TP1/Starting_with_python.ipynb\" target=\"_parent\"><img src=\"https://colab.research.google.com/assets/colab-badge.svg\" alt=\"Open In Colab\"/></a>"
      ]
    },
    {
      "metadata": {
        "id": "fBTD5kXKnzUR",
        "colab_type": "text"
      },
      "cell_type": "markdown",
      "source": [
        "# Python and numerical methods\n",
        "\n",
        "The objective of this series of TP is to introduce you to\n",
        " * what is programming\n",
        " * what is an algorithm\n",
        "\n",
        "In order to keep things as simple as possible, we will use Python, as it's one of the simplest and yet powerfull language.\n",
        "\n",
        "\n",
        "## History\n",
        "\n",
        " * 1989: Creation by **Guido van Rossum** (At CWI, Netherland)\n",
        " * 1991: First public release\n",
        " * 1995: Guido van Rossum and python go to CNRI, USA\n",
        " * 1999: Computer Programming for Everybody (CNRI + DARPA)  \n",
        "  *Objective : python for **teaching** programming*\n",
        " * 2001: Python software fundation (free from governments)\n",
        " * 2008: version 3\n",
        " * 2013: widely use in post-graduate\n",
        " * 2018: **Guido van Rossum** quits as BDFL\n",
        " * 2018: 4th most popular language (behind Java, C and C++)\n",
        " * 2020: death of python 2.x?\n",
        "\n",
        "## Advantages of Python\n",
        "\n",
        " * Batteries included (+numpy, scipy, scikits)\n",
        " * Easy to learn\n",
        " * Easy communication\n",
        " * Efficient code\n",
        " * Universal\n",
        "\n",
        "## Install\n",
        "\n",
        " * Windows : anaconda + `conda` + `pip`\n",
        " * Linux : already install + `apt` + `pip --user`\n",
        " * Mac : homebrew + `brew python3` + `pip --user`\n",
        "\n",
        "## Interface\n",
        "\n",
        "vim+terminal / pycharm / spyder / jupyter / python / ...\n"
      ]
    },
    {
      "metadata": {
        "id": "w4_FWK78nzUW",
        "colab_type": "text"
      },
      "cell_type": "markdown",
      "source": [
        "# Starting with python and jupyter"
      ]
    },
    {
      "metadata": {
        "id": "kaMHXu0MJyie",
        "colab_type": "text"
      },
      "cell_type": "markdown",
      "source": [
        "## Hello World"
      ]
    },
    {
      "metadata": {
        "id": "uq5sFvpUnzUZ",
        "colab_type": "text"
      },
      "cell_type": "markdown",
      "source": [
        "1. In the cell bellow type :\n",
        "```python\n",
        "print(\"Hello World !\")\n",
        "```\n",
        "3. Exectute the cell with 'Ctrl+Enter'"
      ]
    },
    {
      "metadata": {
        "id": "oLaKbE7qnzUf",
        "colab_type": "code",
        "colab": {}
      },
      "cell_type": "code",
      "source": [
        ""
      ],
      "execution_count": 0,
      "outputs": []
    },
    {
      "metadata": {
        "id": "JTrJYGLUnzUo",
        "colab_type": "text"
      },
      "cell_type": "markdown",
      "source": [
        "We will code in python3. In order to execute a cell you can either press\n",
        " * the button `Run` at the top of the notebook\n",
        " * `Ctrl + Enter`\n",
        " * `Shift + Enter` which will also go to the next cell\n",
        " \n",
        "While a cell is waiting to be executed, a star will be present on the top left of the cell (`In [*]`)  \n",
        "Once the cell is executed, the star will be replaced by the run number.  \n",
        "This will allow you to remember in which order you executed your cell.\n",
        "\n",
        "Execute again the previous cell and see the number changing."
      ]
    },
    {
      "metadata": {
        "id": "Yy0-IbYenzUr",
        "colab_type": "text"
      },
      "cell_type": "markdown",
      "source": [
        "## A useful calculator"
      ]
    },
    {
      "metadata": {
        "id": "kOvzJRSenzUt",
        "colab_type": "text"
      },
      "cell_type": "markdown",
      "source": [
        "Execute the next cell"
      ]
    },
    {
      "metadata": {
        "id": "RAEPV92jnzUx",
        "colab_type": "code",
        "colab": {}
      },
      "cell_type": "code",
      "source": [
        "a = 2\n",
        "print(a)"
      ],
      "execution_count": 0,
      "outputs": []
    },
    {
      "metadata": {
        "id": "GIqcFr1WnzU4",
        "colab_type": "text"
      },
      "cell_type": "markdown",
      "source": [
        "The value `2` has been put in variable called `a`\n",
        "\n",
        "Execute the next cell"
      ]
    },
    {
      "metadata": {
        "id": "VZvUE9tnnzU6",
        "colab_type": "code",
        "colab": {}
      },
      "cell_type": "code",
      "source": [
        "a = a + 1\n",
        "print(a)"
      ],
      "execution_count": 0,
      "outputs": []
    },
    {
      "metadata": {
        "id": "C3d_aqWbnzVB",
        "colab_type": "text"
      },
      "cell_type": "markdown",
      "source": [
        "We take the value stored in `a` and add `1` to it wich gives us `3` which we store a the same variable `a`.  \n",
        "So as you can see, what has been stored in one cell is accessible to the other cells (in futures executions obviously)\n",
        "\n",
        "Execute again the previous cell. See the number `In [3]` became `In [4]`\n",
        "\n",
        "As you can see now the result is not the same, it' now `4` because the previous execution of this same cell stored the value `3` in `a`.\n",
        "\n",
        "So be carefull, **order of execution matter**.\n",
        "\n",
        "In order to avoid misterious bugs, and to simplify my process of correction. you can regularly `restart the kernel` by pressing ↻ at the top of the notebook.  \n",
        "Which will forget any execution you have done before.  \n",
        "Then you can reexecute them one by one or all of them (using the option in the `cell` menu)\n",
        "\n",
        "That will be the first thing that I will do in order to evaluate your work."
      ]
    },
    {
      "metadata": {
        "id": "FWkfFw8KnzVF",
        "colab_type": "code",
        "colab": {}
      },
      "cell_type": "code",
      "source": [
        "b = 3\n",
        "c = a + b\n",
        "print(c)"
      ],
      "execution_count": 0,
      "outputs": []
    },
    {
      "metadata": {
        "id": "8V4HMTClnzVM",
        "colab_type": "text"
      },
      "cell_type": "markdown",
      "source": [
        "It is important to use the `print` function in order to see the result."
      ]
    },
    {
      "metadata": {
        "id": "7_cEV4NVnzVP",
        "colab_type": "text"
      },
      "cell_type": "markdown",
      "source": [
        "Use this to compute the volume `V` of a sphere of radius `R=2` using `Pi=3.14`.  \n",
        "$$ V = \\frac{4}{3} \\pi r^3 $$\n",
        "Power elevation is made with the operator `**`"
      ]
    },
    {
      "metadata": {
        "id": "XZn5dltRnzVQ",
        "colab_type": "code",
        "colab": {}
      },
      "cell_type": "code",
      "source": [
        ""
      ],
      "execution_count": 0,
      "outputs": []
    },
    {
      "metadata": {
        "id": "qC7ss6UnnzVb",
        "colab_type": "text"
      },
      "cell_type": "markdown",
      "source": [
        "In the future we would prefer a better value for $\\pi$."
      ]
    },
    {
      "metadata": {
        "id": "EbkPEeW6nzVd",
        "colab_type": "code",
        "colab": {}
      },
      "cell_type": "code",
      "source": [
        "print(pi)"
      ],
      "execution_count": 0,
      "outputs": []
    },
    {
      "metadata": {
        "id": "joxmebqonzVp",
        "colab_type": "text"
      },
      "cell_type": "markdown",
      "source": [
        "Arg ! This is what happen when python is not happy  \n",
        "In this case it is saying that you need to tell him where to find the value of `pi`"
      ]
    },
    {
      "metadata": {
        "id": "GRYLgt2anzVs",
        "colab_type": "code",
        "colab": {}
      },
      "cell_type": "code",
      "source": [
        "# We import the full math package in the math namespace\n",
        "import math\n",
        "print(math.pi)"
      ],
      "execution_count": 0,
      "outputs": []
    },
    {
      "metadata": {
        "id": "TVp9beG2nzVx",
        "colab_type": "text"
      },
      "cell_type": "markdown",
      "source": [
        "Or, equivalently :\n",
        "- From the module math we import only the value of pi\n",
        "```python\n",
        "from math import pi\n",
        "print(pi)\n",
        "```\n",
        "- We import the full math package in an another namespace\n",
        "```python\n",
        "import math as ModuleName\n",
        "print(ModuleName.pi)\n",
        "```\n",
        "\n",
        "- From the module math we import only the value pi and name it differently\n",
        "```python\n",
        "from math import pi as tau\n",
        "print(tau)\n",
        "```\n",
        "\n",
        "- We import the full math package in the current namespace\n",
        "```python\n",
        "from math import *\n",
        "print(pi)\n",
        "```"
      ]
    },
    {
      "metadata": {
        "id": "VoRzpIhWnzVy",
        "colab_type": "text"
      },
      "cell_type": "markdown",
      "source": [
        "** Do not use the last method **  \n",
        "**I will give you penalties if you do !**"
      ]
    },
    {
      "metadata": {
        "id": "SsxBeblmnzV0",
        "colab_type": "text"
      },
      "cell_type": "markdown",
      "source": [
        "Python can give you a lot of help"
      ]
    },
    {
      "metadata": {
        "id": "sJ_DyglKnzV4",
        "colab_type": "code",
        "colab": {}
      },
      "cell_type": "code",
      "source": [
        "help(math)"
      ],
      "execution_count": 0,
      "outputs": []
    },
    {
      "metadata": {
        "id": "THOBRDeonzV-",
        "colab_type": "text"
      },
      "cell_type": "markdown",
      "source": [
        "This is accessible also by pressing `Shift + Tab` \n",
        "Or by executing `math?`\n",
        "\n",
        "Find and test some other mathematical functions  \n",
        "You can press `Tab` to use completion.\n"
      ]
    },
    {
      "metadata": {
        "id": "ePChGWjvnzWA",
        "colab_type": "code",
        "colab": {}
      },
      "cell_type": "code",
      "source": [
        ""
      ],
      "execution_count": 0,
      "outputs": []
    },
    {
      "metadata": {
        "id": "Ndh9fDvJnzWH",
        "colab_type": "text"
      },
      "cell_type": "markdown",
      "source": [
        "What is the value of $\\cos\\left(\\pi + \\arccos(\\sqrt{2}-1)\\right)$ ?"
      ]
    },
    {
      "metadata": {
        "id": "6S90T-CgnzWJ",
        "colab_type": "code",
        "colab": {}
      },
      "cell_type": "code",
      "source": [
        ""
      ],
      "execution_count": 0,
      "outputs": []
    },
    {
      "metadata": {
        "id": "WzeTXW4mnzWM",
        "colab_type": "text"
      },
      "cell_type": "markdown",
      "source": [
        "## Root of second order polynomial\n",
        "\n",
        "We are looking to the solutions of the equation $2x^2 + 5x - 2 = 0$\n",
        "\n",
        "First create three variables `a`, `b` and `c` such that:\n",
        "$$ a = 2 $$\n",
        "$$ b = 5 $$\n",
        "$$ c = -2 $$"
      ]
    },
    {
      "metadata": {
        "id": "U_XYcmTznzWO",
        "colab_type": "code",
        "colab": {}
      },
      "cell_type": "code",
      "source": [
        ""
      ],
      "execution_count": 0,
      "outputs": []
    },
    {
      "metadata": {
        "id": "kHcCowjlnzWX",
        "colab_type": "text"
      },
      "cell_type": "markdown",
      "source": [
        "Compute the quantity $\\Delta = b^2 - 4ac$"
      ]
    },
    {
      "metadata": {
        "id": "wBs3TJGInzWb",
        "colab_type": "code",
        "colab": {}
      },
      "cell_type": "code",
      "source": [
        ""
      ],
      "execution_count": 0,
      "outputs": []
    },
    {
      "metadata": {
        "id": "kAY9RU2enzWg",
        "colab_type": "text"
      },
      "cell_type": "markdown",
      "source": [
        "Compute the two solutions $x_1$ and $x_2$\n",
        "$$ x_1 = \\frac{-b + \\sqrt{\\Delta}}{2a} $$\n",
        "$$ x_2 = \\frac{-b - \\sqrt{\\Delta}}{2a} $$"
      ]
    },
    {
      "metadata": {
        "id": "QfpEN3YxnzWi",
        "colab_type": "code",
        "colab": {}
      },
      "cell_type": "code",
      "source": [
        ""
      ],
      "execution_count": 0,
      "outputs": []
    },
    {
      "metadata": {
        "id": "DEA9gW3hnzWk",
        "colab_type": "text"
      },
      "cell_type": "markdown",
      "source": [
        "Check that they are solution by computing:\n",
        "$$2x_1^2 + 5x_1 - 2$$\n",
        "$$2x_2^2 + 5x_2 - 2$$"
      ]
    },
    {
      "metadata": {
        "id": "Nv1CKfJBnzWu",
        "colab_type": "code",
        "colab": {}
      },
      "cell_type": "code",
      "source": [
        ""
      ],
      "execution_count": 0,
      "outputs": []
    },
    {
      "metadata": {
        "id": "17Ll476YnzW1",
        "colab_type": "text"
      },
      "cell_type": "markdown",
      "source": [
        "Find the solutions of the equation $x^2 + 3x - 3.5 = 0$"
      ]
    },
    {
      "metadata": {
        "id": "yJ57_wJFnzW2",
        "colab_type": "code",
        "colab": {}
      },
      "cell_type": "code",
      "source": [
        ""
      ],
      "execution_count": 0,
      "outputs": []
    },
    {
      "metadata": {
        "id": "EbhvenzonzW_",
        "colab_type": "text"
      },
      "cell_type": "markdown",
      "source": [
        "## Functions and loops\n",
        "\n",
        "You may have notice that it is boring to write several times the same equation.   \n",
        "Computers are not smart but they are very enthusiastic to repeat something they have done already.\n",
        "\n",
        "Suppose that I want to write 100 times ‘Hello World !’.  \n",
        "I can write it one time and ask the computer to do it 100 times this way: "
      ]
    },
    {
      "metadata": {
        "id": "JFsY7kvDnzXD",
        "colab_type": "code",
        "colab": {}
      },
      "cell_type": "code",
      "source": [
        "for i in range(100):\n",
        "    print('Hello World !')\n",
        "    print('i=', i)"
      ],
      "execution_count": 0,
      "outputs": []
    },
    {
      "metadata": {
        "id": "mJBUhvOFnzXF",
        "colab_type": "text"
      },
      "cell_type": "markdown",
      "source": [
        "Or this way: "
      ]
    },
    {
      "metadata": {
        "id": "ZrEUwO-xnzXG",
        "colab_type": "code",
        "colab": {}
      },
      "cell_type": "code",
      "source": [
        "def hundredHello():\n",
        "    for i in range(100):\n",
        "        print('Hello World !')\n",
        "        print('i=', i)\n",
        "\n",
        "hundredHello()"
      ],
      "execution_count": 0,
      "outputs": []
    },
    {
      "metadata": {
        "id": "BL9qtglbnzXQ",
        "colab_type": "text"
      },
      "cell_type": "markdown",
      "source": [
        "You may want to do it n times:"
      ]
    },
    {
      "metadata": {
        "scrolled": true,
        "id": "Kc20EiNOnzXW",
        "colab_type": "code",
        "colab": {}
      },
      "cell_type": "code",
      "source": [
        "def nHello(nPrint):\n",
        "    for i in range(nPrint):\n",
        "        print('Hello World !')\n",
        "        print('i=', i)\n",
        "        \n",
        "nHello(20)\n",
        " "
      ],
      "execution_count": 0,
      "outputs": []
    },
    {
      "metadata": {
        "id": "iU-2RAy0qzKs",
        "colab_type": "text"
      },
      "cell_type": "markdown",
      "source": [
        "Or to call one function from another:"
      ]
    },
    {
      "metadata": {
        "id": "elYVEEM7qzXy",
        "colab_type": "code",
        "colab": {}
      },
      "cell_type": "code",
      "source": [
        "def one_hello():\n",
        "    print('Hello World !')\n",
        "    \n",
        "def nCallHello(nPrint):\n",
        "    for i in range(nPrint):\n",
        "        one_hello()\n",
        "        print('i=', i)\n",
        "        \n",
        "nCallHello(20)"
      ],
      "execution_count": 0,
      "outputs": []
    },
    {
      "metadata": {
        "id": "TUzFMSgQrN3S",
        "colab_type": "text"
      },
      "cell_type": "markdown",
      "source": [
        "Or, finally you may want to say something else:"
      ]
    },
    {
      "metadata": {
        "id": "mc5N9COFrOFF",
        "colab_type": "code",
        "colab": {}
      },
      "cell_type": "code",
      "source": [
        "def repeat(what, how_many):\n",
        "    for i in range(how_many):\n",
        "        print(what)\n",
        "        \n",
        "repeat(what=\"Hey !\", how_many=2)\n",
        "\n",
        "# the order does not matter\n",
        "repeat(how_many=5, what=\"How are you ?\")"
      ],
      "execution_count": 0,
      "outputs": []
    },
    {
      "metadata": {
        "id": "pBA74c2LnzXg",
        "colab_type": "text"
      },
      "cell_type": "markdown",
      "source": [
        "Notice the space at the start of each line ?\n",
        "\n",
        "This is very important, this is part of the syntax. Forget it and you will pay.\n",
        "\n",
        "They define a block. This is why there is no need for an **`end`** keyword\n",
        "\n",
        "You can use any number of space you want, but it must be constant through the block. Usually we use 4 space. Pressing `Tab` in jupyter will add those 4 spaces, and pressing `Shift-Tab` will remove 4 of them.\n",
        "\n",
        "There are other types of blocks than functions and loops.  \n",
        "Another important one, is the test block"
      ]
    },
    {
      "metadata": {
        "id": "Aqxr6j7EuGWj",
        "colab_type": "code",
        "colab": {}
      },
      "cell_type": "code",
      "source": [
        "def max(a, b):\n",
        "    if a > b:\n",
        "        return a\n",
        "    else:\n",
        "        return b\n",
        "\n",
        "c = max(5, 6)\n",
        "print(c)"
      ],
      "execution_count": 0,
      "outputs": []
    },
    {
      "metadata": {
        "id": "GaNCAlxfufUH",
        "colab_type": "text"
      },
      "cell_type": "markdown",
      "source": [
        "Notice the use of the return statement, it is very usefull."
      ]
    },
    {
      "metadata": {
        "id": "l4uVM9TpnzXi",
        "colab_type": "text"
      },
      "cell_type": "markdown",
      "source": [
        "## Root\tof\tsecond\torder\tpolynomial\twith\tfunction\t\n",
        "\n",
        "Define a function `Pscnd(x, a, b, c)` that gives the value of second order polynomial:\n",
        "$$ P(x)=ax^2 + bx + c $$"
      ]
    },
    {
      "metadata": {
        "id": "2HIA46L0nzXj",
        "colab_type": "code",
        "colab": {}
      },
      "cell_type": "code",
      "source": [
        ""
      ],
      "execution_count": 0,
      "outputs": []
    },
    {
      "metadata": {
        "id": "OglS-oaDnzXm",
        "colab_type": "text"
      },
      "cell_type": "markdown",
      "source": [
        "Define a function `Proot(a, b, c)` that compute the roots the the polynomial $ax^2 +bx+c$ using the same method as before"
      ]
    },
    {
      "metadata": {
        "id": "3vQRgpQ0nzXn",
        "colab_type": "code",
        "colab": {}
      },
      "cell_type": "code",
      "source": [
        ""
      ],
      "execution_count": 0,
      "outputs": []
    },
    {
      "metadata": {
        "id": "G0IPsygRnzXq",
        "colab_type": "text"
      },
      "cell_type": "markdown",
      "source": [
        "Check your two functions with the polynoms\n",
        "$$2x^2 + 5x - 2 = 0$$\n",
        "$$x^2 + 3x - 3.5 = 0$$\n",
        "You must obtain the same result as before"
      ]
    },
    {
      "metadata": {
        "id": "Ueuz9fZSnzXq",
        "colab_type": "code",
        "colab": {}
      },
      "cell_type": "code",
      "source": [
        ""
      ],
      "execution_count": 0,
      "outputs": []
    },
    {
      "metadata": {
        "id": "0niMkjXynzX0",
        "colab_type": "text"
      },
      "cell_type": "markdown",
      "source": [
        "What happen with your function and the polynom $-x^2 + 3x - 3.5 =0$ ?"
      ]
    },
    {
      "metadata": {
        "id": "kIIX9ajDnzX1",
        "colab_type": "code",
        "colab": {}
      },
      "cell_type": "code",
      "source": [
        ""
      ],
      "execution_count": 0,
      "outputs": []
    },
    {
      "metadata": {
        "id": "lzYh_rlnnzX3",
        "colab_type": "text"
      },
      "cell_type": "markdown",
      "source": [
        "The equivalent to the package `math` for complex number is `cmath`.\n",
        "\n",
        "Define `cmplxProot` that works for this new polynom "
      ]
    },
    {
      "metadata": {
        "id": "tTDfLt88nzX4",
        "colab_type": "code",
        "colab": {}
      },
      "cell_type": "code",
      "source": [
        ""
      ],
      "execution_count": 0,
      "outputs": []
    },
    {
      "metadata": {
        "id": "GJ6seB70nzX6",
        "colab_type": "text"
      },
      "cell_type": "markdown",
      "source": [
        "## Lists\n",
        "\n",
        "It is usualy a bad idea to store each and every value in it's own variable. When working on a lot of data this will represent a lot of variables, and it will not be easy to write loops with them.\n",
        "\n",
        "So the idea is to store multiple values inside one variable.  \n",
        "For exemple here, we will use a list.\n",
        "\n",
        "```python\n",
        "A = [4, 2, 8, 6, -5, 79, 15, 0, 2]\n",
        "print(A)\n",
        "print(\"Size of the list: \", len(A))\n",
        "```\n",
        "\n",
        "Thoses values are ordered and you can use slicing to access them\n",
        " * `A[1]` : 2nd item\n",
        " * `A[-1]` : last item\n",
        " * `A[4:8]` : sublist (i.e. 5th, 6th and 7th item)\n",
        " * `A[4:8:2]` : sublist by step of 2 (i.e. 5th and 7th item)\n",
        "\n",
        "In the next cell create a list with 7 values and exchange the 4th and the 2nd"
      ]
    },
    {
      "metadata": {
        "id": "-89jIsjtnzX7",
        "colab_type": "code",
        "colab": {}
      },
      "cell_type": "code",
      "source": [
        ""
      ],
      "execution_count": 0,
      "outputs": []
    },
    {
      "metadata": {
        "id": "VcJq6kjODAeZ",
        "colab_type": "text"
      },
      "cell_type": "markdown",
      "source": [
        "There is one imortant this to keep in mind. variables can points to the same thing.  \n",
        "Most thing in python cannot change in time, so there is no problem.  \n",
        "But some can change. Lists are one of them.\n",
        "\n",
        "In the next cell, B and A are to variables pointing to the same list.\n",
        "\n",
        "Modifying B is modifying the list, thus it's modifying A"
      ]
    },
    {
      "metadata": {
        "id": "XY6MdLiJC_Sb",
        "colab_type": "code",
        "colab": {}
      },
      "cell_type": "code",
      "source": [
        "A = [1, 2, 3]\n",
        "B = A\n",
        "B[1] = 4\n",
        "print(A)"
      ],
      "execution_count": 0,
      "outputs": []
    },
    {
      "metadata": {
        "id": "UHTq3YHNEC-H",
        "colab_type": "text"
      },
      "cell_type": "markdown",
      "source": [
        "If you want to duplicate a list, make explicitly a copy"
      ]
    },
    {
      "metadata": {
        "id": "oC_dsJlOEDIh",
        "colab_type": "code",
        "colab": {}
      },
      "cell_type": "code",
      "source": [
        "A = [1, 2, 3]\n",
        "B = A.copy()\n",
        "B[1] = 4\n",
        "print(A)"
      ],
      "execution_count": 0,
      "outputs": []
    },
    {
      "metadata": {
        "id": "3mwDvKZynzX-",
        "colab_type": "text"
      },
      "cell_type": "markdown",
      "source": [
        "# Do not forget\n",
        "\n",
        "Before sending this notebook to me, **restart the kernel, and reexecute all the cells in order.**\n",
        "\n",
        "# That's it for today !"
      ]
    },
    {
      "metadata": {
        "id": "-OyaZiclnzX-",
        "colab_type": "code",
        "colab": {}
      },
      "cell_type": "code",
      "source": [
        ""
      ],
      "execution_count": 0,
      "outputs": []
    }
  ]
}
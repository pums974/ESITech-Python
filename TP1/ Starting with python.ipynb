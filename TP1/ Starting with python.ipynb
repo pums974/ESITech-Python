{
 "cells": [
  {
   "cell_type": "markdown",
   "metadata": {},
   "source": [
    "<div class=\"alert alert-block alert-info\">\n",
    "<span style=\"font-size:xx-large;\"><center>Starting with python</center></span>\n",
    "</div>\n",
    "\n",
    "# Hello World\n",
    "\n",
    "## In an interactive shell\n",
    "\n",
    "1. Go in your directory `TPMethodNum`\n",
    "2. Create `TP00HelloWorld`\n",
    "3. Go in this directory \n",
    "4. Type `python`\n",
    "5. Write :\n",
    "```python\n",
    "print(\"Hello World !\")\n",
    "```\n",
    "6. Congratulation and welcome in python’s world.\n",
    "7. Quit python `Ctrl‐D`."
   ]
  },
  {
   "cell_type": "markdown",
   "metadata": {},
   "source": [
    "## With a script\n",
    "\n",
    "1. Type `gedit hello.py &`\n",
    "2. Enter in the text editor : \n",
    "```python\n",
    "print(\"Hello World !\")\n",
    "```\n",
    "3. Save it. \n",
    "4. Type in the terminal: python hello.py \n",
    "5. Close gedit "
   ]
  },
  {
   "cell_type": "markdown",
   "metadata": {},
   "source": [
    "## In a notebook\n",
    "1. In the cell bellow type :\n",
    "```python\n",
    "print(\"Hello World !\")\n",
    "```\n",
    "3. Exectute the cell with 'Ctrl+Enter'"
   ]
  },
  {
   "cell_type": "code",
   "execution_count": null,
   "metadata": {},
   "outputs": [],
   "source": []
  },
  {
   "cell_type": "markdown",
   "metadata": {},
   "source": [
    "From now on, please stay in the notebook."
   ]
  },
  {
   "cell_type": "markdown",
   "metadata": {},
   "source": [
    "# A useful calculator"
   ]
  },
  {
   "cell_type": "markdown",
   "metadata": {},
   "source": [
    "Execute the next cell"
   ]
  },
  {
   "cell_type": "code",
   "execution_count": 1,
   "metadata": {},
   "outputs": [
    {
     "name": "stdout",
     "output_type": "stream",
     "text": [
      "2\n"
     ]
    }
   ],
   "source": [
    "a = 2\n",
    "print(a)"
   ]
  },
  {
   "cell_type": "markdown",
   "metadata": {},
   "source": [
    "The value `2` has been put in variable called `a`"
   ]
  },
  {
   "cell_type": "code",
   "execution_count": null,
   "metadata": {},
   "outputs": [],
   "source": [
    "b = 3\n",
    "c = a + b\n",
    "print(c)"
   ]
  },
  {
   "cell_type": "markdown",
   "metadata": {},
   "source": [
    "It is important to use the function `print` in order to see the result."
   ]
  },
  {
   "cell_type": "markdown",
   "metadata": {},
   "source": [
    "Use this to compute the volume `V` of a sphere of radius `r=2` using `pi=3.14`.\n",
    "$$ V = \\frac{4}{3} \\pi r^3 $$"
   ]
  },
  {
   "cell_type": "code",
   "execution_count": null,
   "metadata": {},
   "outputs": [],
   "source": []
  },
  {
   "cell_type": "markdown",
   "metadata": {},
   "source": [
    "In the future we would prefer a better value for $\\pi$."
   ]
  },
  {
   "cell_type": "code",
   "execution_count": null,
   "metadata": {},
   "outputs": [],
   "source": [
    "print(pi)"
   ]
  },
  {
   "cell_type": "markdown",
   "metadata": {},
   "source": [
    "Arg ! This is what happen when python is not happy  \n",
    "In this case it is saying that you need to tell him where to find the value of `pi`"
   ]
  },
  {
   "cell_type": "code",
   "execution_count": null,
   "metadata": {},
   "outputs": [],
   "source": [
    "# From the module math we import only the value of pi\n",
    "from math import pi\n",
    "print(pi)"
   ]
  },
  {
   "cell_type": "markdown",
   "metadata": {},
   "source": [
    "Or, equivalently :\n",
    "- We import the full math package in the math namespace\n",
    "```python\n",
    "import math\n",
    "print(math.pi)\n",
    "```\n",
    "\n",
    "- We import the full math package in an another namespace\n",
    "```python\n",
    "import math as ModuleName\n",
    "print(ModuleName.pi)\n",
    "```\n",
    "\n",
    "- From the module math we import only the value pi and name it differently\n",
    "```python\n",
    "from math import pi as tau\n",
    "print(tau)\n",
    "```\n",
    "\n",
    "- We import the full math package in the current namespace\n",
    "```python\n",
    "from math import *\n",
    "print(pi)\n",
    "```"
   ]
  },
  {
   "cell_type": "markdown",
   "metadata": {},
   "source": [
    "<div class=\"alert alert-block alert-danger\">\n",
    "<span style=\"font-size:xx-large;\">\n",
    "    <center>\n",
    "        **Do not use the last method**<br><br>\n",
    "        I will give you penalties is you do !\n",
    "    </center>\n",
    "</span>\n",
    "</div>"
   ]
  },
  {
   "cell_type": "markdown",
   "metadata": {},
   "source": [
    "Python can give you a lot of help"
   ]
  },
  {
   "cell_type": "code",
   "execution_count": null,
   "metadata": {},
   "outputs": [],
   "source": [
    "help(math)"
   ]
  },
  {
   "cell_type": "markdown",
   "metadata": {},
   "source": [
    "Find and test some other mathematical functions:"
   ]
  },
  {
   "cell_type": "code",
   "execution_count": null,
   "metadata": {},
   "outputs": [],
   "source": []
  },
  {
   "cell_type": "markdown",
   "metadata": {},
   "source": [
    "What is the value of $\\cos\\left(\\pi + \\arccos(\\sqrt(2)-1)\\right)$"
   ]
  },
  {
   "cell_type": "code",
   "execution_count": null,
   "metadata": {},
   "outputs": [],
   "source": []
  },
  {
   "cell_type": "markdown",
   "metadata": {},
   "source": [
    "# Root of second order polynomial\n",
    "\n",
    "We are looking to the solutions of the equation $2x^2 + 5x - 2 = 0$\n",
    "\n",
    "First create three variables `a`, `b` and `c` such that:\n",
    "$$ a = 2 $$\n",
    "$$ b = 5 $$\n",
    "$$ c = -2 $$"
   ]
  },
  {
   "cell_type": "code",
   "execution_count": null,
   "metadata": {},
   "outputs": [],
   "source": []
  },
  {
   "cell_type": "markdown",
   "metadata": {},
   "source": [
    "Compute the quantity $\\Delta = b^2 - 4ac$"
   ]
  },
  {
   "cell_type": "code",
   "execution_count": null,
   "metadata": {},
   "outputs": [],
   "source": []
  },
  {
   "cell_type": "markdown",
   "metadata": {},
   "source": [
    "Compute the to solutions $x_1$ and $x_2$"
   ]
  },
  {
   "cell_type": "code",
   "execution_count": null,
   "metadata": {},
   "outputs": [],
   "source": []
  },
  {
   "cell_type": "markdown",
   "metadata": {},
   "source": [
    "Check that they are solution by computing:\n",
    "$$2x_1^2 + 5x_1 - 2$$\n",
    "$$2x_2^2 + 5x_2 - 2$$"
   ]
  },
  {
   "cell_type": "code",
   "execution_count": null,
   "metadata": {},
   "outputs": [],
   "source": []
  },
  {
   "cell_type": "markdown",
   "metadata": {},
   "source": [
    "Find the solutions of the equations $x^2 + 3x - 3.5 = 0$"
   ]
  },
  {
   "cell_type": "code",
   "execution_count": null,
   "metadata": {},
   "outputs": [],
   "source": []
  },
  {
   "cell_type": "markdown",
   "metadata": {},
   "source": [
    "# Functions\n",
    "\n",
    "You may have notice that it is boring to write several times the same equation.   \n",
    "Computers are not smart but they are very enthusiastic to repeat something they have done already.\n",
    "\n",
    "Suppose that I want to write 100 times ‘Hello World !’.  \n",
    "I can write it one time and ask the computer to do it 100 times this way: "
   ]
  },
  {
   "cell_type": "code",
   "execution_count": 4,
   "metadata": {},
   "outputs": [
    {
     "name": "stdout",
     "output_type": "stream",
     "text": [
      "Hello World !\n",
      "i= 0\n",
      "Hello World !\n",
      "i= 1\n",
      "Hello World !\n",
      "i= 2\n",
      "Hello World !\n",
      "i= 3\n",
      "Hello World !\n",
      "i= 4\n",
      "Hello World !\n",
      "i= 5\n",
      "Hello World !\n",
      "i= 6\n",
      "Hello World !\n",
      "i= 7\n",
      "Hello World !\n",
      "i= 8\n",
      "Hello World !\n",
      "i= 9\n",
      "Hello World !\n",
      "i= 10\n",
      "Hello World !\n",
      "i= 11\n",
      "Hello World !\n",
      "i= 12\n",
      "Hello World !\n",
      "i= 13\n",
      "Hello World !\n",
      "i= 14\n",
      "Hello World !\n",
      "i= 15\n",
      "Hello World !\n",
      "i= 16\n",
      "Hello World !\n",
      "i= 17\n",
      "Hello World !\n",
      "i= 18\n",
      "Hello World !\n",
      "i= 19\n",
      "Hello World !\n",
      "i= 20\n",
      "Hello World !\n",
      "i= 21\n",
      "Hello World !\n",
      "i= 22\n",
      "Hello World !\n",
      "i= 23\n",
      "Hello World !\n",
      "i= 24\n",
      "Hello World !\n",
      "i= 25\n",
      "Hello World !\n",
      "i= 26\n",
      "Hello World !\n",
      "i= 27\n",
      "Hello World !\n",
      "i= 28\n",
      "Hello World !\n",
      "i= 29\n",
      "Hello World !\n",
      "i= 30\n",
      "Hello World !\n",
      "i= 31\n",
      "Hello World !\n",
      "i= 32\n",
      "Hello World !\n",
      "i= 33\n",
      "Hello World !\n",
      "i= 34\n",
      "Hello World !\n",
      "i= 35\n",
      "Hello World !\n",
      "i= 36\n",
      "Hello World !\n",
      "i= 37\n",
      "Hello World !\n",
      "i= 38\n",
      "Hello World !\n",
      "i= 39\n",
      "Hello World !\n",
      "i= 40\n",
      "Hello World !\n",
      "i= 41\n",
      "Hello World !\n",
      "i= 42\n",
      "Hello World !\n",
      "i= 43\n",
      "Hello World !\n",
      "i= 44\n",
      "Hello World !\n",
      "i= 45\n",
      "Hello World !\n",
      "i= 46\n",
      "Hello World !\n",
      "i= 47\n",
      "Hello World !\n",
      "i= 48\n",
      "Hello World !\n",
      "i= 49\n",
      "Hello World !\n",
      "i= 50\n",
      "Hello World !\n",
      "i= 51\n",
      "Hello World !\n",
      "i= 52\n",
      "Hello World !\n",
      "i= 53\n",
      "Hello World !\n",
      "i= 54\n",
      "Hello World !\n",
      "i= 55\n",
      "Hello World !\n",
      "i= 56\n",
      "Hello World !\n",
      "i= 57\n",
      "Hello World !\n",
      "i= 58\n",
      "Hello World !\n",
      "i= 59\n",
      "Hello World !\n",
      "i= 60\n",
      "Hello World !\n",
      "i= 61\n",
      "Hello World !\n",
      "i= 62\n",
      "Hello World !\n",
      "i= 63\n",
      "Hello World !\n",
      "i= 64\n",
      "Hello World !\n",
      "i= 65\n",
      "Hello World !\n",
      "i= 66\n",
      "Hello World !\n",
      "i= 67\n",
      "Hello World !\n",
      "i= 68\n",
      "Hello World !\n",
      "i= 69\n",
      "Hello World !\n",
      "i= 70\n",
      "Hello World !\n",
      "i= 71\n",
      "Hello World !\n",
      "i= 72\n",
      "Hello World !\n",
      "i= 73\n",
      "Hello World !\n",
      "i= 74\n",
      "Hello World !\n",
      "i= 75\n",
      "Hello World !\n",
      "i= 76\n",
      "Hello World !\n",
      "i= 77\n",
      "Hello World !\n",
      "i= 78\n",
      "Hello World !\n",
      "i= 79\n",
      "Hello World !\n",
      "i= 80\n",
      "Hello World !\n",
      "i= 81\n",
      "Hello World !\n",
      "i= 82\n",
      "Hello World !\n",
      "i= 83\n",
      "Hello World !\n",
      "i= 84\n",
      "Hello World !\n",
      "i= 85\n",
      "Hello World !\n",
      "i= 86\n",
      "Hello World !\n",
      "i= 87\n",
      "Hello World !\n",
      "i= 88\n",
      "Hello World !\n",
      "i= 89\n",
      "Hello World !\n",
      "i= 90\n",
      "Hello World !\n",
      "i= 91\n",
      "Hello World !\n",
      "i= 92\n",
      "Hello World !\n",
      "i= 93\n",
      "Hello World !\n",
      "i= 94\n",
      "Hello World !\n",
      "i= 95\n",
      "Hello World !\n",
      "i= 96\n",
      "Hello World !\n",
      "i= 97\n",
      "Hello World !\n",
      "i= 98\n",
      "Hello World !\n",
      "i= 99\n"
     ]
    }
   ],
   "source": [
    "def one_hello():\n",
    "    print('Hello World !')\n",
    "\n",
    "for i in range(100):\n",
    "    one_hello()\n",
    "    print('i=', i)"
   ]
  },
  {
   "cell_type": "markdown",
   "metadata": {},
   "source": [
    "Or this way: "
   ]
  },
  {
   "cell_type": "code",
   "execution_count": 5,
   "metadata": {},
   "outputs": [
    {
     "name": "stdout",
     "output_type": "stream",
     "text": [
      "Hello World !\n",
      "i= 0\n",
      "Hello World !\n",
      "i= 1\n",
      "Hello World !\n",
      "i= 2\n",
      "Hello World !\n",
      "i= 3\n",
      "Hello World !\n",
      "i= 4\n",
      "Hello World !\n",
      "i= 5\n",
      "Hello World !\n",
      "i= 6\n",
      "Hello World !\n",
      "i= 7\n",
      "Hello World !\n",
      "i= 8\n",
      "Hello World !\n",
      "i= 9\n",
      "Hello World !\n",
      "i= 10\n",
      "Hello World !\n",
      "i= 11\n",
      "Hello World !\n",
      "i= 12\n",
      "Hello World !\n",
      "i= 13\n",
      "Hello World !\n",
      "i= 14\n",
      "Hello World !\n",
      "i= 15\n",
      "Hello World !\n",
      "i= 16\n",
      "Hello World !\n",
      "i= 17\n",
      "Hello World !\n",
      "i= 18\n",
      "Hello World !\n",
      "i= 19\n",
      "Hello World !\n",
      "i= 20\n",
      "Hello World !\n",
      "i= 21\n",
      "Hello World !\n",
      "i= 22\n",
      "Hello World !\n",
      "i= 23\n",
      "Hello World !\n",
      "i= 24\n",
      "Hello World !\n",
      "i= 25\n",
      "Hello World !\n",
      "i= 26\n",
      "Hello World !\n",
      "i= 27\n",
      "Hello World !\n",
      "i= 28\n",
      "Hello World !\n",
      "i= 29\n",
      "Hello World !\n",
      "i= 30\n",
      "Hello World !\n",
      "i= 31\n",
      "Hello World !\n",
      "i= 32\n",
      "Hello World !\n",
      "i= 33\n",
      "Hello World !\n",
      "i= 34\n",
      "Hello World !\n",
      "i= 35\n",
      "Hello World !\n",
      "i= 36\n",
      "Hello World !\n",
      "i= 37\n",
      "Hello World !\n",
      "i= 38\n",
      "Hello World !\n",
      "i= 39\n",
      "Hello World !\n",
      "i= 40\n",
      "Hello World !\n",
      "i= 41\n",
      "Hello World !\n",
      "i= 42\n",
      "Hello World !\n",
      "i= 43\n",
      "Hello World !\n",
      "i= 44\n",
      "Hello World !\n",
      "i= 45\n",
      "Hello World !\n",
      "i= 46\n",
      "Hello World !\n",
      "i= 47\n",
      "Hello World !\n",
      "i= 48\n",
      "Hello World !\n",
      "i= 49\n",
      "Hello World !\n",
      "i= 50\n",
      "Hello World !\n",
      "i= 51\n",
      "Hello World !\n",
      "i= 52\n",
      "Hello World !\n",
      "i= 53\n",
      "Hello World !\n",
      "i= 54\n",
      "Hello World !\n",
      "i= 55\n",
      "Hello World !\n",
      "i= 56\n",
      "Hello World !\n",
      "i= 57\n",
      "Hello World !\n",
      "i= 58\n",
      "Hello World !\n",
      "i= 59\n",
      "Hello World !\n",
      "i= 60\n",
      "Hello World !\n",
      "i= 61\n",
      "Hello World !\n",
      "i= 62\n",
      "Hello World !\n",
      "i= 63\n",
      "Hello World !\n",
      "i= 64\n",
      "Hello World !\n",
      "i= 65\n",
      "Hello World !\n",
      "i= 66\n",
      "Hello World !\n",
      "i= 67\n",
      "Hello World !\n",
      "i= 68\n",
      "Hello World !\n",
      "i= 69\n",
      "Hello World !\n",
      "i= 70\n",
      "Hello World !\n",
      "i= 71\n",
      "Hello World !\n",
      "i= 72\n",
      "Hello World !\n",
      "i= 73\n",
      "Hello World !\n",
      "i= 74\n",
      "Hello World !\n",
      "i= 75\n",
      "Hello World !\n",
      "i= 76\n",
      "Hello World !\n",
      "i= 77\n",
      "Hello World !\n",
      "i= 78\n",
      "Hello World !\n",
      "i= 79\n",
      "Hello World !\n",
      "i= 80\n",
      "Hello World !\n",
      "i= 81\n",
      "Hello World !\n",
      "i= 82\n",
      "Hello World !\n",
      "i= 83\n",
      "Hello World !\n",
      "i= 84\n",
      "Hello World !\n",
      "i= 85\n",
      "Hello World !\n",
      "i= 86\n",
      "Hello World !\n",
      "i= 87\n",
      "Hello World !\n",
      "i= 88\n",
      "Hello World !\n",
      "i= 89\n",
      "Hello World !\n",
      "i= 90\n",
      "Hello World !\n",
      "i= 91\n",
      "Hello World !\n",
      "i= 92\n",
      "Hello World !\n",
      "i= 93\n",
      "Hello World !\n",
      "i= 94\n",
      "Hello World !\n",
      "i= 95\n",
      "Hello World !\n",
      "i= 96\n",
      "Hello World !\n",
      "i= 97\n",
      "Hello World !\n",
      "i= 98\n",
      "Hello World !\n",
      "i= 99\n"
     ]
    }
   ],
   "source": [
    "def hundredHello():\n",
    "    for i in range(100):\n",
    "        print('Hello World !')\n",
    "        print('i=', i)\n",
    "\n",
    "hundredHello()"
   ]
  },
  {
   "cell_type": "markdown",
   "metadata": {},
   "source": [
    "You may want to do it n times:"
   ]
  },
  {
   "cell_type": "code",
   "execution_count": 6,
   "metadata": {
    "scrolled": true
   },
   "outputs": [
    {
     "name": "stdout",
     "output_type": "stream",
     "text": [
      "Hello World !\n",
      "i= 0\n",
      "Hello World !\n",
      "i= 1\n",
      "Hello World !\n",
      "i= 2\n",
      "Hello World !\n",
      "i= 3\n",
      "Hello World !\n",
      "i= 4\n",
      "Hello World !\n",
      "i= 5\n",
      "Hello World !\n",
      "i= 6\n",
      "Hello World !\n",
      "i= 7\n",
      "Hello World !\n",
      "i= 8\n",
      "Hello World !\n",
      "i= 9\n",
      "Hello World !\n",
      "i= 10\n",
      "Hello World !\n",
      "i= 11\n",
      "Hello World !\n",
      "i= 12\n",
      "Hello World !\n",
      "i= 13\n",
      "Hello World !\n",
      "i= 14\n",
      "Hello World !\n",
      "i= 15\n",
      "Hello World !\n",
      "i= 16\n",
      "Hello World !\n",
      "i= 17\n",
      "Hello World !\n",
      "i= 18\n",
      "Hello World !\n",
      "i= 19\n"
     ]
    }
   ],
   "source": [
    "def nHello(nPrint):\n",
    "    for i in range(nPrint):\n",
    "        print('Hello World !')\n",
    "        print('i=', i)\n",
    "nHello(20)\n",
    " "
   ]
  },
  {
   "cell_type": "markdown",
   "metadata": {},
   "source": [
    "## Root\tof\tsecond\torder\tpolynomial\twith\tfunction\t\n",
    "\n",
    "Define a function `Pscnd(x, a, b, c)` that gives the value of second order polynomial:\n",
    "$$ P(x)=ax^2 + bx + c $$"
   ]
  },
  {
   "cell_type": "code",
   "execution_count": null,
   "metadata": {},
   "outputs": [],
   "source": []
  },
  {
   "cell_type": "markdown",
   "metadata": {},
   "source": [
    "Define a function `Proot(a, b, c)` that compute the roots the the polynomial $ax^2 +bx+c$ using the same method as before"
   ]
  },
  {
   "cell_type": "code",
   "execution_count": null,
   "metadata": {},
   "outputs": [],
   "source": []
  },
  {
   "cell_type": "markdown",
   "metadata": {},
   "source": [
    "Check the your two functions with the polynoms\n",
    "$$2x^2 + 5x - 2 = 0$$\n",
    "$$x^2 + 3x - 3.5 = 0$$\n",
    "You must obtain the same result as before"
   ]
  },
  {
   "cell_type": "code",
   "execution_count": null,
   "metadata": {},
   "outputs": [],
   "source": []
  },
  {
   "cell_type": "markdown",
   "metadata": {},
   "source": [
    "What happen with your function and the polynom $-x^2 + 3x - 3.5 =0$ ?"
   ]
  },
  {
   "cell_type": "code",
   "execution_count": null,
   "metadata": {},
   "outputs": [],
   "source": []
  },
  {
   "cell_type": "markdown",
   "metadata": {},
   "source": [
    "The equivalent to the package `math` for complex number is `cmath`.\n",
    "\n",
    "Define `cmplxProot` that works for this new polynom "
   ]
  },
  {
   "cell_type": "code",
   "execution_count": null,
   "metadata": {},
   "outputs": [],
   "source": []
  },
  {
   "cell_type": "markdown",
   "metadata": {},
   "source": [
    "<div class=\"alert alert-block alert-danger\">\n",
    "<span style=\"font-size:xx-large;\">\n",
    "    <center>\n",
    "        **Do not forget**\n",
    "    </center>\n",
    "</span>\n",
    "</div>\n",
    "\n",
    "Once all cells have been **filled** and **executed**, save this document as a pdf file (by printing it)  \n",
    "Check that everything is present on the produced pdf  \n",
    "Send it to me via Universitice  \n",
    "This will be used to evaluate you.\n",
    "\n",
    "<div class=\"alert alert-block alert-info\">\n",
    "<span style=\"font-size:xx-large;\"><center>That's it for today !</center></span>\n",
    "</div>"
   ]
  },
  {
   "cell_type": "code",
   "execution_count": null,
   "metadata": {},
   "outputs": [],
   "source": []
  }
 ],
 "metadata": {
  "kernelspec": {
   "display_name": "Python 3",
   "language": "python",
   "name": "python3"
  },
  "language_info": {
   "codemirror_mode": {
    "name": "ipython",
    "version": 3
   },
   "file_extension": ".py",
   "mimetype": "text/x-python",
   "name": "python",
   "nbconvert_exporter": "python",
   "pygments_lexer": "ipython3",
   "version": "3.5.2"
  },
  "toc": {
   "base_numbering": 1,
   "nav_menu": {
    "height": "217px",
    "width": "226px"
   },
   "number_sections": true,
   "sideBar": false,
   "skip_h1_title": false,
   "title_cell": "Table of Contents",
   "title_sidebar": "Contents",
   "toc_cell": false,
   "toc_position": {},
   "toc_section_display": true,
   "toc_window_display": true
  }
 },
 "nbformat": 4,
 "nbformat_minor": 2
}

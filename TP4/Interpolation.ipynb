{
 "cells": [
  {
   "cell_type": "markdown",
   "metadata": {},
   "source": [
    "<div class=\"alert alert-block alert-info\">\n",
    "<span style=\"font-size:xx-large;\"><center>Interpolation</center></span>\n",
    "</div>\n",
    "Interpolation is basically a mathematical operation which consists in building a curve according to a range of data.  \n",
    "In the daily life, this process is one of the base of Machine Learning.  \n",
    "For example with a smart car, it aims to be driven by itself, without the help of the human. \n",
    "But, to realize this task, it needs an important amount of data like \"How humans drive\" to learn from us and get the best behavior while machine is driving.  \n",
    "In this case \"learning\" means recognizing that the current new situation is close to others situations this it already know.  \n",
    "Then, it has to act \"like\" those simmilar situation.\n",
    "\n",
    "Here we will imagine that we got some raw data from an **unknown function**.  \n",
    "In order to assess the precision of the methods, we will take the following function:   \n",
    "$$ f(x) = \\sqrt{4x} $$\n",
    "\n",
    "The objective is to find an approximation of this function knowing only few points.  \n",
    "\n",
    "Define this `function(x)`"
   ]
  },
  {
   "cell_type": "code",
   "execution_count": null,
   "metadata": {},
   "outputs": [],
   "source": []
  },
  {
   "cell_type": "markdown",
   "metadata": {},
   "source": [
    "The following cell should work"
   ]
  },
  {
   "cell_type": "code",
   "execution_count": null,
   "metadata": {},
   "outputs": [],
   "source": [
    "%matplotlib notebook\n",
    "import matplotlib.pyplot as plt\n",
    "\n",
    "xmin, xmax = 0., 1.0\n",
    "x_interpol = np.linspace(xmin,xmax,3)\n",
    "Npts = 110\n",
    "x = np.linspace(xmin,xmax,Npts)\n",
    "y = function(x)\n",
    "y_interpol = function(x_interpol)\n",
    "\n",
    "plt.figure(\"1st fig\")\n",
    "plt.plot(x,y,'k--',label='Function')\n",
    "plt.plot(x_interpol,y_interpol,'+r',markersize=15,label='Known Data')\n",
    "plt.xlabel(\"x\")\n",
    "plt.ylabel(\"y\")\n",
    "plt.title('Known data points and full function')\n",
    "plt.legend(loc='best')\n",
    "plt.grid(True)\n",
    "plt.show()"
   ]
  },
  {
   "cell_type": "markdown",
   "metadata": {},
   "source": [
    "# Linear interpolation\n",
    "\n",
    "The first idea is to assimilate the function to a line between each points.\n",
    "\n",
    "First, we can compute two lines \n",
    "- $a_1 x + b_1 = 0$ that approximate the left part of the curve and pass through the two first data points\n",
    "- $a_2 x + b_2 = 0$ that approximate the right part of the curve and pass through the two last data points  \n",
    "\n",
    "\n",
    "Write a function `linear_interp(x, y)` that, given 3 points, compute $a_1$, $b_1$, $a_2$ and $b_2$."
   ]
  },
  {
   "cell_type": "code",
   "execution_count": null,
   "metadata": {},
   "outputs": [],
   "source": []
  },
  {
   "cell_type": "markdown",
   "metadata": {},
   "source": [
    "Given a point `x` we can detect if we are on the left or on the right of the curve and select wich line to use \n",
    "\n",
    "Write a function `linear_eval(x, a1,b1,a2,b2)` that compute the value of the approximation on x "
   ]
  },
  {
   "cell_type": "code",
   "execution_count": null,
   "metadata": {},
   "outputs": [],
   "source": []
  },
  {
   "cell_type": "markdown",
   "metadata": {},
   "source": [
    "If you wrote correct functions, the following cell should work, and let you appreciate the accuracy of the approximation.  "
   ]
  },
  {
   "cell_type": "code",
   "execution_count": null,
   "metadata": {},
   "outputs": [],
   "source": [
    "Npts = 110\n",
    "\n",
    "# We use the following line to make it possible to call your function with an array x:\n",
    "vlinear_eval = np.vectorize(linear_eval)\n",
    "\n",
    "xmin, xmax = 0., 1.0\n",
    "x = np.linspace(xmin,xmax,Npts)\n",
    "y_linear = vlinear_eval(x, *linear_interp(x_interpol, y_interpol))\n",
    "\n",
    "plt.figure(\"2nd fig\")\n",
    "plt.plot(x,function(x),'k--',label='Ref')\n",
    "plt.plot(x_interpol,y_interpol,'+r',markersize=15,label='Data points')\n",
    "plt.plot(x,y_linear,'-b',label='Your linear interpolation')\n",
    "plt.grid(True)\n",
    "plt.xlabel(\"x\")\n",
    "plt.ylabel(\"y\")\n",
    "plt.title('Linear interpolation')\n",
    "plt.legend(loc='best')\n",
    "plt.show()"
   ]
  },
  {
   "cell_type": "markdown",
   "metadata": {},
   "source": [
    "# Quadratic interpolation\n",
    "\n",
    "In order to enhance our results we can replace the 1st order polynomial (lines) by 2nd order ones.\n",
    "\n",
    "For that we need to solve the following system of equation:\n",
    "\n",
    "$$\n",
    "\\begin{align}\n",
    "ax_{0}^2 + bx_{0} + c &= f(x_{0})\\\\\n",
    "ax_{1}^2 + bx_{1} + c &= f(x_{1})\\\\\n",
    "ax_{2}^2 + bx_{2} + c &= f(x_{2})\\\\\n",
    "\\end{align}\n",
    "$$\n",
    "\n",
    "Find manually $a,b,c$"
   ]
  },
  {
   "cell_type": "code",
   "execution_count": null,
   "metadata": {},
   "outputs": [],
   "source": [
    "c=\n",
    "b=\n",
    "a=\n",
    "print(a,b,c)\n"
   ]
  },
  {
   "cell_type": "markdown",
   "metadata": {},
   "source": [
    "Write a function `poly_eval(x,a,b,c)` that evaluate your polynomial on `x`"
   ]
  },
  {
   "cell_type": "code",
   "execution_count": null,
   "metadata": {},
   "outputs": [],
   "source": []
  },
  {
   "cell_type": "markdown",
   "metadata": {},
   "source": [
    "If you write correct functions, the following cell should work, and let you appreciate the accuracy of the approximation"
   ]
  },
  {
   "cell_type": "code",
   "execution_count": null,
   "metadata": {},
   "outputs": [],
   "source": [
    "Npts = 110\n",
    "\n",
    "xmin, xmax = 0., 1.0\n",
    "x = np.linspace(xmin,xmax,Npts)\n",
    "\n",
    "y_pol = poly_eval(x, a, b, c)\n",
    "plt.figure(\"3nd fig\")\n",
    "plt.plot(x,function(x),'k--',label='Ref')\n",
    "plt.plot(x_interpol,y_interpol,'+r',markersize=15,label='Data points')\n",
    "plt.plot(x,y_linear,label='Your linear interpolation')\n",
    "plt.plot(x,y_pol,label='Your quadratic interpolation')\n",
    "plt.grid(True)\n",
    "plt.xlabel(\"x\")\n",
    "plt.ylabel(\"y\")\n",
    "plt.title('Quadratic interpolation')\n",
    "plt.legend(loc='best')\n",
    "plt.show()"
   ]
  },
  {
   "cell_type": "markdown",
   "metadata": {},
   "source": [
    "From now on we will work on the Runge function  \n",
    "$$\\text{runge}(x) = \\frac{1}{1 + 25 x^{2}}$$\n",
    "with 3 data points on $x=-1$, $x=0$ and $x=1$.\n",
    "\n",
    "Define this function"
   ]
  },
  {
   "cell_type": "code",
   "execution_count": null,
   "metadata": {},
   "outputs": [],
   "source": []
  },
  {
   "cell_type": "markdown",
   "metadata": {},
   "source": [
    "\n",
    "Recompute a quadratic approximation on this new function.\n",
    "\n",
    "If you don't want to loose your mind again doing this manually, you can also use python to solve it.\n",
    "\n",
    "First, compute \n",
    "- the vector $X = \\begin{bmatrix} x_0 & x_1 & x_2\\end{bmatrix}$  \n",
    "- the vector $Y = \\begin{bmatrix} f(x_0) & f(x_1) & f(x_2)\\end{bmatrix}$  \n",
    "- the matrix $M = \\begin{bmatrix}\n",
    "x_0^2 & x_0& 1\\\\\n",
    "x_1^2 & x_1& 1\\\\\n",
    "x_2^2 & x_2& 1\\\\\n",
    "\\end{bmatrix}$"
   ]
  },
  {
   "cell_type": "code",
   "execution_count": null,
   "metadata": {},
   "outputs": [],
   "source": []
  },
  {
   "cell_type": "markdown",
   "metadata": {},
   "source": [
    "You can now compute the coeficients `coeffs` of your polynom using `np.linalg.solve(M, Y)`"
   ]
  },
  {
   "cell_type": "code",
   "execution_count": null,
   "metadata": {},
   "outputs": [],
   "source": []
  },
  {
   "cell_type": "markdown",
   "metadata": {},
   "source": [
    "If you write correct functions, the following cell should work."
   ]
  },
  {
   "cell_type": "code",
   "execution_count": null,
   "metadata": {
    "scrolled": false
   },
   "outputs": [],
   "source": [
    "Npts = 110\n",
    "\n",
    "xmin, xmax = 0., 1.0\n",
    "x = np.linspace(xmin,xmax,Npts)\n",
    "y = runge(x)\n",
    "y_pol = poly_eval(x, *coeffs)\n",
    "\n",
    "plt.figure(\"4th fig\")\n",
    "plt.plot(x,y,'k--',label='Ref')\n",
    "plt.plot(X,Y,'+r',markersize=15,label='Data points')\n",
    "plt.plot(x,y_pol,label='Your quadratic interpolation')\n",
    "plt.grid(True)\n",
    "plt.xlabel(\"x\")\n",
    "plt.ylabel(\"y\")\n",
    "plt.title('Quadratic interpolation')\n",
    "plt.legend(loc='best')\n",
    "plt.show()"
   ]
  },
  {
   "cell_type": "markdown",
   "metadata": {},
   "source": [
    "# High order polynomials\n",
    "  \n",
    "Hey but what stop us from taking more data points and using higher order polynomials ? Nothing !\n",
    "\n",
    "Write a new function `coefs(x,y)` that will use the previous method to compute the highest order polynomial possible with given data points\n",
    "\n",
    "You might use `len(x)` in order to know the number of points."
   ]
  },
  {
   "cell_type": "code",
   "execution_count": null,
   "metadata": {},
   "outputs": [],
   "source": []
  },
  {
   "cell_type": "markdown",
   "metadata": {},
   "source": [
    "Then, write a function `poly_eval2(x, coefs)` that evaluate a polynomial of arbitrary order on `x` "
   ]
  },
  {
   "cell_type": "code",
   "execution_count": null,
   "metadata": {},
   "outputs": [],
   "source": []
  },
  {
   "cell_type": "markdown",
   "metadata": {},
   "source": [
    "If your functions are well written the following cell should work.  \n",
    "Play with the number of data points `npoints`.  \n",
    "What is happenning ?"
   ]
  },
  {
   "cell_type": "code",
   "execution_count": null,
   "metadata": {},
   "outputs": [],
   "source": [
    "npoints = 9\n",
    "\n",
    "xmin, xmax =-1., 1.\n",
    "\n",
    "# First we declare the number of points of the interpolation and we identify them\n",
    "x_raw = np.linspace(xmin,xmax,npoints)\n",
    "y_raw = runge(x_raw)\n",
    "\n",
    "coef_poly = coefs(x_raw,y_raw)\n",
    "\n",
    "Npts = 100\n",
    "x = np.linspace(xmin,xmax,Npts)\n",
    "y_pol2 = poly_eval2(x,coef_poly)\n",
    "\n",
    "fig, bx = plt.subplots()\n",
    "bx.plot(x, runge(x),'r-', label=\"Runge\")\n",
    "bx.plot(x, poly_eval2(x, coef_poly),'k-',label=\"High order polynomial approximation\")\n",
    "bx.plot(x_raw, y_raw,'ko',label=\"Data points\")\n",
    "bx.set_xlim(xmin,xmax)\n",
    "bx.set_ylim(-0.1,1.2)\n",
    "plt.xlabel(\"x\")\n",
    "plt.ylabel(\"y\")\n",
    "plt.title('High order polynomials')\n",
    "plt.grid()\n",
    "plt.legend(loc=\"upper left\")\n",
    "plt.show()"
   ]
  },
  {
   "cell_type": "markdown",
   "metadata": {},
   "source": [
    "You can see on the graph the highs fluctuations of values on both extremities of the domain. This is called Runge's phenomenon in the mathematical field of numerical analysis.\n",
    "Runge's phenomenon is a problem of oscillation at the edges of an interval that occurs when using polynomial interpolation with polynomials of high degree over a set of equispaced interpolation points. It was discovered by Carl David Tolmé Runge (1901).The discovery was important because it shows that going to higher degrees does not always improve accuracy."
   ]
  },
  {
   "cell_type": "markdown",
   "metadata": {},
   "source": [
    "An idea to improve accuracy constists in changing the repartitions of the data points.  \n",
    "For exemple, we can use the arctan function in order to put more points on the extremities.\n",
    "\n",
    "Plot the arctan function"
   ]
  },
  {
   "cell_type": "code",
   "execution_count": null,
   "metadata": {},
   "outputs": [],
   "source": []
  },
  {
   "cell_type": "markdown",
   "metadata": {},
   "source": [
    "As you can see the function evovle slowly at the beginning, quikly in the middle and slowly again at the end.\n",
    "Applying this function on the uniform `x` coordinate will produce new coordinate with more points at the start/end.\n",
    "\n",
    "You can adjust the coefficient and the number of data points"
   ]
  },
  {
   "cell_type": "code",
   "execution_count": null,
   "metadata": {},
   "outputs": [],
   "source": [
    "arctan_coef = 2\n",
    "npoints=11\n",
    "\n",
    "\n",
    "xmin, xmax =-1., 1.\n",
    "\n",
    "x_raw = np.linspace(xmin,xmax,npoints)\n",
    "y_raw = runge(x_raw)\n",
    "x_atan = np.arctan(arctan_coef*x_raw)\n",
    "x_atan /= np.max(x_atan) \n",
    "y_atan = runge(x_atan)\n",
    "coef_atan = coefs(x_atan,y_atan)\n",
    "\n",
    "Npts = 100\n",
    "x = np.linspace(xmin,xmax,Npts)\n",
    "\n",
    "fig, cx = plt.subplots()\n",
    "\n",
    "cx.plot(x, runge(x),'r-', label=\"Runge\")\n",
    "cx.plot(x, poly_eval2(x, coef_atan),'k-',label=\"High order polynomial approximation\")\n",
    "cx.plot(x_atan, y_atan,'ko',label=\"Data points\" )\n",
    "cx.set_xlim(xmin,xmax)\n",
    "cx.set_ylim(-0.1,1.2)\n",
    "plt.xlabel(\"x\")\n",
    "plt.ylabel(\"y\")\n",
    "plt.title('Polynomial from ArcTan')\n",
    "plt.grid()\n",
    "plt.legend(loc=\"upper left\")\n",
    "plt.show()"
   ]
  },
  {
   "cell_type": "markdown",
   "metadata": {},
   "source": [
    "# Spline Interpolation (scipy)\n",
    "\n",
    "We saw that define some points along the function that we want to interpolate with respect to the trend of this one, as done with the $arctan(ax)$ function to set the positioning is not the easiest way to get a satisfactory result.  \n",
    "Another way to do this could be to set various Polynomial form along the function that we would have previously split according to its trend to get a better approximation.  \n",
    "This will be the aim of this part, use a spline algorithm to split it and get the most accurate solution.x"
   ]
  },
  {
   "cell_type": "markdown",
   "metadata": {},
   "source": [
    "So the black curve is computed from the equation that you see on other part to follow as perfectly as possible the data from experiments that have been obtained.  \n",
    "This is called in maths a Spline."
   ]
  },
  {
   "cell_type": "code",
   "execution_count": null,
   "metadata": {},
   "outputs": [],
   "source": [
    "from scipy.interpolate import make_interp_spline"
   ]
  },
  {
   "cell_type": "markdown",
   "metadata": {},
   "source": [
    "Use this package to compute a spline approximation of the runge function"
   ]
  },
  {
   "cell_type": "code",
   "execution_count": null,
   "metadata": {},
   "outputs": [],
   "source": [
    "interp = make_interp_spline(x_raw,runge(x_raw),k=3)\n",
    "y_interp = interp(x)"
   ]
  },
  {
   "cell_type": "markdown",
   "metadata": {},
   "source": [
    "Plot the result. You can also play with the coefficient of this package."
   ]
  },
  {
   "cell_type": "code",
   "execution_count": null,
   "metadata": {},
   "outputs": [],
   "source": [
    "fig, dx = plt.subplots()\n",
    "\n",
    "dx.plot(x, runge(x),'r-', label=\"Runge\")\n",
    "dx.plot(x, poly_eval2(x, coef_atan),'k-',label=\"High order polynomial approximation\")\n",
    "dx.plot(x_raw, runge(x_raw),'ko',label=\"Data points\" )\n",
    "dx.plot(x,y_interp,'-g',label=\"Spline Interpolation\")\n",
    "dx.set_xlim(xmin,xmax)\n",
    "dx.set_ylim(-0.1,1.2)\n",
    "plt.xlabel(\"x\")\n",
    "plt.ylabel(\"y\")\n",
    "plt.title('Polynomial from ArcTan')\n",
    "plt.grid()\n",
    "plt.legend(loc=\"upper left\")\n",
    "plt.show()"
   ]
  },
  {
   "cell_type": "markdown",
   "metadata": {},
   "source": [
    "A method to check the accuracy of the interpolation would have been to use integration technics.  \n",
    "This is the pupose of the next TP."
   ]
  },
  {
   "cell_type": "markdown",
   "metadata": {},
   "source": [
    "A good example of spline interpolation in research is the Drag Coefficient with regard to the Reynolds. Many scientists investigated on this topic so a lot of data from experiment have been found. The fact is that it's impossible to generalize a curve on the whole domain, so empirical laws have been written.  \n",
    "Using those general laws give now a general corelation of the Drag Coefficient and obviously help a lot."
   ]
  },
  {
   "cell_type": "markdown",
   "metadata": {},
   "source": [
    "<table>\n",
    "    <tr>\n",
    "        <td> <img src=\"StokesLaw.png\" alt=\"Flowchart\" style=\"height: 420px\"/> </td>\n",
    "        <td> <img src=\"Equation.png\" alt=\"Flowchart\" style=\"height: 420px;\"/> </td>\n",
    "    </tr>\n",
    "</table>"
   ]
  },
  {
   "cell_type": "markdown",
   "metadata": {},
   "source": [
    "<div class=\"alert alert-block alert-danger\">\n",
    "<span style=\"font-size:xx-large;\">\n",
    "    <center>\n",
    "        **Do not forget**\n",
    "    </center>\n",
    "</span>\n",
    "</div>\n",
    "\n",
    "Once all cells have been **filled** and **executed**, save this document as a pdf file (by printing it)  \n",
    "Check that everything is present on the produced pdf  \n",
    "Send **the pdf AND the notebook** to me via Universitice  \n",
    "This will be used to evaluate you.\n",
    "\n",
    "<div class=\"alert alert-block alert-info\">\n",
    "<span style=\"font-size:xx-large;\"><center>That's it for today !</center></span>\n",
    "</div>"
   ]
  },
  {
   "cell_type": "code",
   "execution_count": null,
   "metadata": {},
   "outputs": [],
   "source": []
  }
 ],
 "metadata": {
  "kernelspec": {
   "display_name": "Python 3",
   "language": "python",
   "name": "python3"
  },
  "language_info": {
   "codemirror_mode": {
    "name": "ipython",
    "version": 3
   },
   "file_extension": ".py",
   "mimetype": "text/x-python",
   "name": "python",
   "nbconvert_exporter": "python",
   "pygments_lexer": "ipython3",
   "version": "3.5.2"
  },
  "toc": {
   "base_numbering": 1,
   "nav_menu": {},
   "number_sections": true,
   "sideBar": false,
   "skip_h1_title": false,
   "title_cell": "Table of Contents",
   "title_sidebar": "Contents",
   "toc_cell": false,
   "toc_position": {},
   "toc_section_display": true,
   "toc_window_display": false
  }
 },
 "nbformat": 4,
 "nbformat_minor": 2
}

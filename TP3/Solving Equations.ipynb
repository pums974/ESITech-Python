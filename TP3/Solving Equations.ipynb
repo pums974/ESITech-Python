{
 "cells": [
  {
   "cell_type": "markdown",
   "metadata": {},
   "source": [
    "<div class=\"alert alert-block alert-info\">\n",
    "<span style=\"font-size:xx-large;\"><center>Solving Equations</center></span>\n",
    "</div>\n",
    "\n",
    "We are looking for solutions of the equation:\n",
    "$$ \\sin\\left(\\frac{x}{4}\\right) = \\frac{\\sqrt{2}}{2} $$\n",
    "\n",
    "The sinus function is periodic, so we suspect that this eqation has an inifinite number of solution.  \n",
    "Let's restrain ourself on the solution(s) $x\\in\\left[1,5\\right]$.\n",
    "\n",
    "In order to find $x$ we need an equation of the form $f(x) = 0$\n",
    "\n",
    "Define $f(x)$\n"
   ]
  },
  {
   "cell_type": "code",
   "execution_count": null,
   "metadata": {},
   "outputs": [],
   "source": []
  },
  {
   "cell_type": "markdown",
   "metadata": {},
   "source": [
    "Plot f and a horizontal line on 0 (you may use numpy.zeros)"
   ]
  },
  {
   "cell_type": "code",
   "execution_count": null,
   "metadata": {},
   "outputs": [],
   "source": []
  },
  {
   "cell_type": "markdown",
   "metadata": {},
   "source": [
    "Based on this graph, make a first guess on the solutions:"
   ]
  },
  {
   "cell_type": "code",
   "execution_count": null,
   "metadata": {},
   "outputs": [],
   "source": [
    "my_guess = # put your values here\n",
    "print(f(my_guess))"
   ]
  },
  {
   "cell_type": "markdown",
   "metadata": {},
   "source": [
    "We would prefer that the computer find the soultion by itself.  \n",
    "We will see here 3 common algorith for that.\n"
   ]
  },
  {
   "cell_type": "markdown",
   "metadata": {},
   "source": [
    "# Bisection algorithm\n",
    "\n",
    "<table>\n",
    "    <tr>\n",
    "        <td> <img src=\"flowchart.png\" alt=\"Flowchart\" style=\"width: 350px;height: 420px\"/> </td>\n",
    "        <td> <img src=\"bisection_animation.gif\" alt=\"Animation\" style=\"width: 550px;\"/> </td>\n",
    "    </tr>\n",
    "</table>\n",
    "\n",
    "Write a function `bisect(f, a, b, tol, nit)` that use this algorithm to find a solution of `f(x)` in the inteval $\\left[a,b\\right]$ within a tolerence `tol` or stop after `nit` iterations\n",
    "\n",
    "You may use a `while` loop \n",
    "\n",
    "Please write your advancement during the resolution  \n",
    "(the iteration number, the current solution and the current error)"
   ]
  },
  {
   "cell_type": "code",
   "execution_count": null,
   "metadata": {},
   "outputs": [],
   "source": []
  },
  {
   "cell_type": "markdown",
   "metadata": {},
   "source": [
    "Start with $\\text{tol} = 10^{-5}$ and $\\text{nit} = 5$\n",
    "\n",
    "And play with all the arguments in order to find the solution with the best precision possible"
   ]
  },
  {
   "cell_type": "code",
   "execution_count": null,
   "metadata": {},
   "outputs": [],
   "source": []
  },
  {
   "cell_type": "markdown",
   "metadata": {},
   "source": [
    "# The fix point algorithm\n",
    "\n",
    "<table>\n",
    "    <tr>\n",
    "        <td> <img src=\"Fix_point-flowchart.png\" alt=\"Flowchart\" style=\"height: 420px\"/> </td>\n",
    "        <td> <img src=\"fix_point_animation.gif\" alt=\"Animation\" style=\"height: 420px;\"/> </td>\n",
    "    </tr>\n",
    "</table>\n",
    "\n",
    "In order to find $x$ we need an equation of the form $g(x) = x$ with :\n",
    "- $g(y) > y$ if $y < x$\n",
    "- $g(y) < y$ if $y > x$\n",
    "\n",
    "For exemple $g(x) = x - \\left(\\sin\\left(\\frac{x}{4}\\right) - \\frac{\\sqrt{2}}{2}\\right)$.\n",
    "\n",
    "\n",
    "\n",
    "Define $g(x)$"
   ]
  },
  {
   "cell_type": "code",
   "execution_count": null,
   "metadata": {},
   "outputs": [],
   "source": []
  },
  {
   "cell_type": "markdown",
   "metadata": {},
   "source": [
    "Plot `g(x)` and `x`"
   ]
  },
  {
   "cell_type": "code",
   "execution_count": null,
   "metadata": {},
   "outputs": [],
   "source": []
  },
  {
   "cell_type": "markdown",
   "metadata": {},
   "source": [
    "Write a function `FixPoint(g, x_0, tol, nit)` that apply this algorithm to find a solution within a tolerence `tol` or stop after `nit` iterations.\n",
    "\n",
    "You may use a `while` loop \n",
    "\n",
    "Please write your advancement during the resolution  \n",
    "(the iteration number, the current solution and the current error)"
   ]
  },
  {
   "cell_type": "code",
   "execution_count": null,
   "metadata": {},
   "outputs": [],
   "source": []
  },
  {
   "cell_type": "markdown",
   "metadata": {},
   "source": [
    "Take $\\text{tol} = 10^{-5}$, $\\text{nit} = 5$ and $x_0 = 1.5$ and validate your function.  \n",
    "Play with $\\text{tol}$ and $\\text{nit}$"
   ]
  },
  {
   "cell_type": "code",
   "execution_count": null,
   "metadata": {},
   "outputs": [],
   "source": []
  },
  {
   "cell_type": "markdown",
   "metadata": {},
   "source": [
    "Write a new function `graphFixPoint(g, x_0, tol, nit)` that does exactly the same thing as your previous function,  \n",
    "but also graph a plot similar to the animation."
   ]
  },
  {
   "cell_type": "code",
   "execution_count": null,
   "metadata": {},
   "outputs": [],
   "source": []
  },
  {
   "cell_type": "markdown",
   "metadata": {},
   "source": [
    "Apply this new function"
   ]
  },
  {
   "cell_type": "code",
   "execution_count": null,
   "metadata": {},
   "outputs": [],
   "source": []
  },
  {
   "cell_type": "markdown",
   "metadata": {},
   "source": [
    "Search for an alternative function `g` that converge faster (in terms of number of iterations).\n",
    "\n",
    "Plot the result with your `graphFixPoint` function."
   ]
  },
  {
   "cell_type": "code",
   "execution_count": null,
   "metadata": {},
   "outputs": [],
   "source": []
  },
  {
   "cell_type": "markdown",
   "metadata": {},
   "source": [
    "# The newton method\n",
    "\n",
    "<table>\n",
    "    <tr>\n",
    "        <td> <img src=\"newton-flowchart.png\" alt=\"Flowchart\" style=\"height: 420px\"/> </td>\n",
    "        <td> <img src=\"newton_animation.gif\" alt=\"Animation\" style=\"height: 420px;\"/> </td>\n",
    "    </tr>\n",
    "</table>\n",
    "\n",
    "Write a function `newton(f, x0, tol, nit)` that use this algorithm to find a solution of `f(x)` starting with `x_0` within a tolerence `tol` or stop after `nit` iterations\n",
    "\n",
    "You may use a `while` loop \n",
    "\n",
    "Please write your advancement during the resolution  \n",
    "(the iteration number, the current solution and the current error)"
   ]
  },
  {
   "cell_type": "code",
   "execution_count": null,
   "metadata": {},
   "outputs": [],
   "source": []
  },
  {
   "cell_type": "markdown",
   "metadata": {},
   "source": [
    "Take $\\text{tol} = 10^{-5}$, $\\text{nit} = 5$ and $x_0 = 5$ and validate your function.  \n",
    "Play with $\\text{tol}$ and $\\text{nit}$"
   ]
  },
  {
   "cell_type": "code",
   "execution_count": null,
   "metadata": {},
   "outputs": [],
   "source": []
  },
  {
   "cell_type": "markdown",
   "metadata": {},
   "source": [
    "Write a new function `graphNewton(g, x_0, tol, nit)` that does exactly the same thing as your previous function,  \n",
    "but also graph a plot similar to the bisection animation."
   ]
  },
  {
   "cell_type": "code",
   "execution_count": null,
   "metadata": {},
   "outputs": [],
   "source": []
  },
  {
   "cell_type": "markdown",
   "metadata": {},
   "source": [
    "Try different values of $x_0$  \n",
    "What happen with $x_0 = -4$ ?\n",
    "\n",
    "Write a new version of the algorithm, with a new under relaxed factor $\\alpha$:  \n",
    "i.e. : replacing $x_i = x_\\text{new}$ by $x_i = \\alpha x_\\text{new} + (1-\\alpha)x_i$"
   ]
  },
  {
   "cell_type": "code",
   "execution_count": null,
   "metadata": {},
   "outputs": [],
   "source": []
  },
  {
   "cell_type": "markdown",
   "metadata": {},
   "source": [
    "Try it with different values of $\\alpha \\in \\left]0,1\\right]$"
   ]
  },
  {
   "cell_type": "code",
   "execution_count": null,
   "metadata": {},
   "outputs": [],
   "source": []
  },
  {
   "cell_type": "markdown",
   "metadata": {},
   "source": [
    "# Scipy\n",
    "\n",
    "Usually you don't need to write yourself all the algorithms, the python community did that for you !\n",
    "\n",
    "For exemple you might have used [scipy](https://docs.scipy.org/doc/scipy/reference/optimize.html).\n",
    "\n",
    "Plot the evolution of the error as a function of the number of iteration for your three methods and brentq from scipy.\n",
    "\n",
    "You might want to set `tol` as low as possible, and change the `nit` parameter for each point of the curve\n"
   ]
  },
  {
   "cell_type": "code",
   "execution_count": null,
   "metadata": {},
   "outputs": [],
   "source": []
  },
  {
   "cell_type": "markdown",
   "metadata": {},
   "source": [
    "<div class=\"alert alert-block alert-danger\">\n",
    "<span style=\"font-size:xx-large;\">\n",
    "    <center>\n",
    "        **Do not forget**\n",
    "    </center>\n",
    "</span>\n",
    "</div>\n",
    "\n",
    "Once all cells have been **filled** and **executed**, save this document as a pdf file (by printing it)  \n",
    "Check that everything is present on the produced pdf  \n",
    "Send **the pdf AND the notebook** to me via Universitice  \n",
    "This will be used to evaluate you.\n",
    "\n",
    "<div class=\"alert alert-block alert-info\">\n",
    "<span style=\"font-size:xx-large;\"><center>That's it for today !</center></span>\n",
    "</div>"
   ]
  },
  {
   "cell_type": "code",
   "execution_count": null,
   "metadata": {},
   "outputs": [],
   "source": []
  }
 ],
 "metadata": {
  "kernelspec": {
   "display_name": "Python 3",
   "language": "python",
   "name": "python3"
  },
  "language_info": {
   "codemirror_mode": {
    "name": "ipython",
    "version": 3
   },
   "file_extension": ".py",
   "mimetype": "text/x-python",
   "name": "python",
   "nbconvert_exporter": "python",
   "pygments_lexer": "ipython3",
   "version": "3.5.2"
  },
  "toc": {
   "base_numbering": 1,
   "nav_menu": {},
   "number_sections": true,
   "sideBar": false,
   "skip_h1_title": false,
   "title_cell": "Table of Contents",
   "title_sidebar": "Contents",
   "toc_cell": false,
   "toc_position": {},
   "toc_section_display": true,
   "toc_window_display": false
  }
 },
 "nbformat": 4,
 "nbformat_minor": 2
}

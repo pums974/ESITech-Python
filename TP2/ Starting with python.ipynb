{
 "cells": [
  {
   "cell_type": "markdown",
   "metadata": {},
   "source": [
    "# Starting with python\n",
    "\n",
    "## Hello World\n",
    "\n",
    "### In an interactive shell\n",
    "\n",
    "1. Go in your directory TPMethodNum \n",
    "2. Create TP00HelloWorld \n",
    "3. Go in this directory \n",
    "4. Type `python`\n",
    "5. Write :\n",
    "```python\n",
    "print(\"Hello World !\")\n",
    "```\n",
    "6. Congratulation and welcome in python’s world.\n",
    "7. Quit python ‘Ctrl‐D’.  "
   ]
  },
  {
   "cell_type": "markdown",
   "metadata": {},
   "source": [
    "### With a script\n",
    "\n",
    "1. Type gedit hello.py &\n",
    "2. Enter in the text editor : \n",
    "```python\n",
    "print(\"Hello World !\")\n",
    "```\n",
    "3. Save it. \n",
    "4. Type in the terminal: python hello.py \n",
    "5. Close gedit "
   ]
  },
  {
   "cell_type": "markdown",
   "metadata": {},
   "source": [
    "### In a notebook\n",
    "1. In the cell bellow type :\n",
    "```python\n",
    "print(\"Hello World !\")\n",
    "```\n",
    "3. Exectute the cell with 'Ctrl+Enter'"
   ]
  },
  {
   "cell_type": "code",
   "execution_count": null,
   "metadata": {},
   "outputs": [],
   "source": []
  },
  {
   "cell_type": "markdown",
   "metadata": {},
   "source": [
    "From now on, please stay in the notebook."
   ]
  },
  {
   "cell_type": "markdown",
   "metadata": {},
   "source": [
    "## A useful calculator\n",
    "\n"
   ]
  },
  {
   "cell_type": "markdown",
   "metadata": {},
   "source": [
    "Execute the next cell"
   ]
  },
  {
   "cell_type": "code",
   "execution_count": null,
   "metadata": {},
   "outputs": [],
   "source": [
    "a = 2\n",
    "print(a)"
   ]
  },
  {
   "cell_type": "markdown",
   "metadata": {},
   "source": [
    "The value `2` has been put in variable called `a`"
   ]
  },
  {
   "cell_type": "code",
   "execution_count": null,
   "metadata": {},
   "outputs": [],
   "source": [
    "b = 3\n",
    "c = a + b\n",
    "print(c)"
   ]
  },
  {
   "cell_type": "markdown",
   "metadata": {},
   "source": [
    "It is important to use the function `print` in order to see the result."
   ]
  },
  {
   "cell_type": "markdown",
   "metadata": {},
   "source": [
    "<div class=\"alert alert-block alert-warning\"> \n",
    "<span style=\"font-size:xx-large;\"><center>First question</center></span>\n",
    "</div> \n",
    "\n",
    "Use this to compute the volume `V` of a sphere of radius `r=2` using `pi=3.14`.\n",
    "$$ V = \\frac{4}{3} \\pi r^3 $$"
   ]
  },
  {
   "cell_type": "code",
   "execution_count": null,
   "metadata": {},
   "outputs": [],
   "source": []
  },
  {
   "cell_type": "markdown",
   "metadata": {},
   "source": [
    "In the future we would prefer a better value for $\\pi$."
   ]
  },
  {
   "cell_type": "code",
   "execution_count": null,
   "metadata": {},
   "outputs": [],
   "source": [
    "print(pi)"
   ]
  },
  {
   "cell_type": "markdown",
   "metadata": {},
   "source": [
    "Arg ! This is what happen when python is not happy  \n",
    "In this case it is saying that you need to tell him where to find the value of `pi`"
   ]
  },
  {
   "cell_type": "code",
   "execution_count": null,
   "metadata": {},
   "outputs": [],
   "source": [
    "# From the module math we import only the value of pi\n",
    "from math import pi\n",
    "print(pi)"
   ]
  },
  {
   "cell_type": "markdown",
   "metadata": {},
   "source": [
    "Or, equivalently :\n",
    "- We import the full math package in the math namespace\n",
    "```python\n",
    "import math\n",
    "print(math.pi)\n",
    "```\n",
    "\n",
    "- We import the full math package in an another namespace\n",
    "```python\n",
    "import math as ModuleName\n",
    "print(ModuleName.pi)\n",
    "```\n",
    "\n",
    "- From the module math we import only the value pi and name it differently\n",
    "```python\n",
    "from math import pi as tau\n",
    "print(tau)\n",
    "```\n",
    "\n",
    "- We import the full math package in the current namespace\n",
    "```python\n",
    "from math import *\n",
    "print(pi)\n",
    "```"
   ]
  },
  {
   "cell_type": "markdown",
   "metadata": {},
   "source": [
    "<div class=\"alert alert-block alert-danger\">\n",
    "<span style=\"font-size:xx-large;\">\n",
    "    <center>\n",
    "        **Do not use the last method**<br><br>\n",
    "        I will give you penalties is you do !\n",
    "    </center>\n",
    "</span>\n",
    "\n",
    "</div>"
   ]
  },
  {
   "cell_type": "markdown",
   "metadata": {},
   "source": [
    "Python can give you a lot of help"
   ]
  },
  {
   "cell_type": "code",
   "execution_count": null,
   "metadata": {},
   "outputs": [],
   "source": [
    "help(math)"
   ]
  },
  {
   "cell_type": "markdown",
   "metadata": {},
   "source": [
    "Find and test some other mathematical functions:"
   ]
  },
  {
   "cell_type": "markdown",
   "metadata": {},
   "source": [
    "<div class=\"alert alert-block alert-warning\"> \n",
    "<span style=\"font-size:xx-large;\"><center>Second question</center></span>\n",
    "</div> \n",
    "\n",
    "\n",
    "What is th value of $\\cos\\left(\\pi + \\arccos(\\sqrt(2)-1)\\right)$"
   ]
  },
  {
   "cell_type": "code",
   "execution_count": null,
   "metadata": {},
   "outputs": [],
   "source": []
  },
  {
   "cell_type": "code",
   "execution_count": null,
   "metadata": {},
   "outputs": [],
   "source": []
  }
 ],
 "metadata": {
  "kernelspec": {
   "display_name": "Python 3",
   "language": "python",
   "name": "python3"
  },
  "language_info": {
   "codemirror_mode": {
    "name": "ipython",
    "version": 3
   },
   "file_extension": ".py",
   "mimetype": "text/x-python",
   "name": "python",
   "nbconvert_exporter": "python",
   "pygments_lexer": "ipython3",
   "version": "3.5.2"
  }
 },
 "nbformat": 4,
 "nbformat_minor": 2
}

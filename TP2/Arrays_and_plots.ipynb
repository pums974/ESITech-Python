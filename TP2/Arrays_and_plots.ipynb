{
  "nbformat": 4,
  "nbformat_minor": 0,
  "metadata": {
    "colab": {
      "name": "Arrays and plots.ipynb",
      "version": "0.3.2",
      "provenance": [],
      "collapsed_sections": [],
      "include_colab_link": true
    },
    "kernelspec": {
      "display_name": "Python 3",
      "language": "python",
      "name": "python3"
    }
  },
  "cells": [
    {
      "cell_type": "markdown",
      "metadata": {
        "id": "view-in-github",
        "colab_type": "text"
      },
      "source": [
        "<a href=\"https://colab.research.google.com/github/pums974/ESITech-Python/blob/master/TP2/Arrays_and_plots.ipynb\" target=\"_parent\"><img src=\"https://colab.research.google.com/assets/colab-badge.svg\" alt=\"Open In Colab\"/></a>"
      ]
    },
    {
      "metadata": {
        "id": "_qDDCF1r7mTK",
        "colab_type": "text"
      },
      "cell_type": "markdown",
      "source": [
        "# Arrays and graphs\n"
      ]
    },
    {
      "metadata": {
        "id": "Fqr1mC7LIzbw",
        "colab_type": "text"
      },
      "cell_type": "markdown",
      "source": [
        "## Arrays\n",
        "\n",
        "The module [numpy](https://docs.scipy.org/doc/numpy/reference/) provides everything that's needed for arrays and maths on arrays.\n",
        "\n",
        "Usually we will **not** use mathematical function from the math package that we used during the previous TP.  \n",
        "Numpy superseed them with equivalant functions that works not only on numbers but also for arrays.  "
      ]
    },
    {
      "metadata": {
        "scrolled": true,
        "id": "ksCBZ4I97mTQ",
        "colab_type": "code",
        "colab": {}
      },
      "cell_type": "code",
      "source": [
        "import numpy as np"
      ],
      "execution_count": 0,
      "outputs": []
    },
    {
      "metadata": {
        "id": "KkqniiXb7mTb",
        "colab_type": "text"
      },
      "cell_type": "markdown",
      "source": [
        "The `arange(begin, end, step)` function create an array of envenly spaced points, **excluding** the end"
      ]
    },
    {
      "metadata": {
        "id": "4Uxrxxxr7mTd",
        "colab_type": "code",
        "colab": {}
      },
      "cell_type": "code",
      "source": [
        "t = np.arange(0., 2.1, 0.1)\n",
        "print(t)"
      ],
      "execution_count": 0,
      "outputs": []
    },
    {
      "metadata": {
        "id": "VDFHiQOc81dA",
        "colab_type": "text"
      },
      "cell_type": "markdown",
      "source": [
        "Similarly there is the `linspace(begin, end, nb_points)` function if you prefer to give the number of points.  \n",
        "Be careful, in this case it's **including** the end."
      ]
    },
    {
      "metadata": {
        "id": "emV7uUyp8yRR",
        "colab_type": "code",
        "colab": {}
      },
      "cell_type": "code",
      "source": [
        "t = np.linspace(0., 2., 21)\n",
        "print(t)\n",
        "\n",
        "print(\"Numpy arrays are capable of some basic computation:\")\n",
        "print((\"{:6} = {:5.2f}\\n\" * 3).format(\"t min\", t.min(),\n",
        "                                      \"t mean\", t.mean(),\n",
        "                                      \"t max\", t.max()))\n",
        "\n",
        "print(\"Or we can use numpy's functions on those arrays (see doc):\")\n",
        "print((\"{:6} = {:5.2f}\\n\" * 3).format(\"t min\", np.min(t),\n",
        "                                      \"t mean\", np.mean(t),\n",
        "                                      \"t max\", np.max(t)))"
      ],
      "execution_count": 0,
      "outputs": []
    },
    {
      "metadata": {
        "id": "xWWHd10I7mTo",
        "colab_type": "text"
      },
      "cell_type": "markdown",
      "source": [
        "Applying the sinus function on an array will apply sinus on each element of the array"
      ]
    },
    {
      "metadata": {
        "id": "WN8dV-pA7mTr",
        "colab_type": "code",
        "colab": {}
      },
      "cell_type": "code",
      "source": [
        "s = np.sin(2 * np.pi * t) \n",
        "print(s)"
      ],
      "execution_count": 0,
      "outputs": []
    },
    {
      "metadata": {
        "id": "MrMrE_BdzsPF",
        "colab_type": "text"
      },
      "cell_type": "markdown",
      "source": [
        "The documentation of numpy online is very well written.\n",
        "\n",
        "Do not hesitate to use it !"
      ]
    },
    {
      "metadata": {
        "id": "6KZ8XYYw7mUq",
        "colab_type": "text"
      },
      "cell_type": "markdown",
      "source": [
        "### External data and simple statistics\n",
        "\n",
        "#### Saving\n",
        "\n",
        "To write arrays in a simple format you have first to compact them in a single variable says DataOut:\n",
        "```python\n",
        "DataOut = np.column_stack((x, y1, y2, y3))\n",
        "```\n",
        "\n",
        "Then data are saved on the file `myFile.txt` simply through:\n",
        "```python\n",
        "np.savetxt(\"myFile.txt\", DataOut) \n",
        "```\n",
        "\n",
        "Since we are on google colab, you may want to download this file\n",
        "```python\n",
        "from google.colab import files\n",
        "files.download('myFile.txt')\n",
        "```\n",
        "\n",
        "#### Loading\n",
        "Since we are on google colab, we first have to upload the file\n",
        "\n",
        "```python\n",
        "from google.colab import files\n",
        "uploaded = files.upload()\n",
        "```\n",
        "\n",
        "If the data are stored in a similar way, you can use \n",
        "```python\n",
        "DataIn = np.loadtxt(\"myFile.txt\") \n",
        "```\n",
        "\n",
        "An then \"unpack\" the result\n",
        "```python\n",
        "x, y1, y2, y3 = DataIn.T\n",
        "```\n",
        "Notice the transposition here ?  \n",
        "That's because python only know how to unpack lines and not columns\n"
      ]
    },
    {
      "metadata": {
        "id": "GOZKs9_K8Pb-",
        "colab_type": "text"
      },
      "cell_type": "markdown",
      "source": [
        "#### Your turn\n",
        "\n",
        "Load the content of the file `populations.txt`"
      ]
    },
    {
      "metadata": {
        "id": "7DK4mWu6Iagz",
        "colab_type": "code",
        "colab": {}
      },
      "cell_type": "code",
      "source": [
        ""
      ],
      "execution_count": 0,
      "outputs": []
    },
    {
      "metadata": {
        "id": "YGvd-BKvF3Bv",
        "colab_type": "text"
      },
      "cell_type": "markdown",
      "source": [
        "\n",
        "Compute for each species\n",
        " * the mean population\n",
        " * the standard deviation"
      ]
    },
    {
      "metadata": {
        "id": "0Pig9XxxF3NI",
        "colab_type": "code",
        "colab": {}
      },
      "cell_type": "code",
      "source": [
        ""
      ],
      "execution_count": 0,
      "outputs": []
    },
    {
      "metadata": {
        "id": "kzSRZsBAGoys",
        "colab_type": "text"
      },
      "cell_type": "markdown",
      "source": [
        "\n",
        " * The year when each species had it's maximum of population\n"
      ]
    },
    {
      "metadata": {
        "id": "p3eCUkNQGo45",
        "colab_type": "code",
        "colab": {}
      },
      "cell_type": "code",
      "source": [
        ""
      ],
      "execution_count": 0,
      "outputs": []
    },
    {
      "metadata": {
        "id": "gyHMdscpGwFT",
        "colab_type": "text"
      },
      "cell_type": "markdown",
      "source": [
        "\n",
        " * The two years when each species had it's minimum of population"
      ]
    },
    {
      "metadata": {
        "id": "UTSXTd4uGwKt",
        "colab_type": "code",
        "colab": {}
      },
      "cell_type": "code",
      "source": [
        ""
      ],
      "execution_count": 0,
      "outputs": []
    },
    {
      "metadata": {
        "id": "Wrf49X43JSTJ",
        "colab_type": "text"
      },
      "cell_type": "markdown",
      "source": [
        "### Your first algorthm \n",
        "\n",
        "We will here implement a classic algortith to sort data : **bubble sort**\n",
        "\n",
        "![Texte alternatif…](https://upload.wikimedia.org/wikipedia/commons/3/37/Bubble_sort_animation.gif)\n",
        "\n",
        "The idea here is to go through the list comparing each consecutive pair of elements. If two element are not in the right order, they are swapped.\n",
        "\n",
        "![Texte alternatif…](https://upload.wikimedia.org/wikipedia/commons/c/c8/Bubble-sort-example-300px.gif)\n",
        "\n",
        "Once the list has been parsed, we start from the beginning again until no more swapping are necessary.\n",
        "\n",
        "The algorithm can be described like that:\n",
        "\n",
        "![Texte alternatif…](https://www.researchgate.net/publication/303337342/figure/fig7/AS:372605338046474@1465847443705/Sample-flowchart-for-a-sorting-algorithm-This-flowchart-illustrates-the-conditional.png =400x)\n",
        "\n",
        "Write a function `swap(mylist, i, j)` that swap the element in i and the element in j"
      ]
    },
    {
      "metadata": {
        "id": "mJAGTesoJPoR",
        "colab_type": "code",
        "colab": {}
      },
      "cell_type": "code",
      "source": [
        ""
      ],
      "execution_count": 0,
      "outputs": []
    },
    {
      "metadata": {
        "id": "eykWBzCNs5N9",
        "colab_type": "text"
      },
      "cell_type": "markdown",
      "source": [
        "Yon can test your function here:"
      ]
    },
    {
      "metadata": {
        "id": "JMSnonl_s5S4",
        "colab_type": "code",
        "colab": {}
      },
      "cell_type": "code",
      "source": [
        "test = [2, 1, 3, 4]\n",
        "swap(test, 0, 1)\n",
        "print(test)\n",
        "\n",
        "test = [3, 2, 1, 4]\n",
        "swap(test, 0, 2)\n",
        "print(test)\n",
        "\n",
        "test = [2, 1, 3, 4]\n",
        "swap(test, 1, 0)\n",
        "print(test)"
      ],
      "execution_count": 0,
      "outputs": []
    },
    {
      "metadata": {
        "id": "WF1p-IOjtjyZ",
        "colab_type": "text"
      },
      "cell_type": "markdown",
      "source": [
        "Now write a function `compare(mylist, i, j)` that compare the element in i and the element in j and, if `mylist[i]` is bigger than `mylist[j]` , call the previous function to swap them "
      ]
    },
    {
      "metadata": {
        "id": "EM7gGHfytkA8",
        "colab_type": "code",
        "colab": {}
      },
      "cell_type": "code",
      "source": [
        ""
      ],
      "execution_count": 0,
      "outputs": []
    },
    {
      "metadata": {
        "id": "6wDlxNvGt5bp",
        "colab_type": "text"
      },
      "cell_type": "markdown",
      "source": [
        "Yon can test your function here:"
      ]
    },
    {
      "metadata": {
        "id": "Ij1GS0tXt5h7",
        "colab_type": "code",
        "colab": {}
      },
      "cell_type": "code",
      "source": [
        "test = [2, 1, 3, 4]\n",
        "compare(test, 2, 3)\n",
        "print(test)\n",
        "compare(test, 0, 1)\n",
        "print(test)\n",
        "compare(test, 2, 0)\n",
        "print(test)"
      ],
      "execution_count": 0,
      "outputs": []
    },
    {
      "metadata": {
        "id": "tWNYz3Ohv-M2",
        "colab_type": "text"
      },
      "cell_type": "markdown",
      "source": [
        "You can now write a function `one_pass(mylist)`  that goes through the list one time, making all the consecutive pairwise comparisons"
      ]
    },
    {
      "metadata": {
        "id": "oqzMAUlkv-kT",
        "colab_type": "code",
        "colab": {}
      },
      "cell_type": "code",
      "source": [
        ""
      ],
      "execution_count": 0,
      "outputs": []
    },
    {
      "metadata": {
        "id": "QpnckVibwYhi",
        "colab_type": "text"
      },
      "cell_type": "markdown",
      "source": [
        "Yon can test your function here:"
      ]
    },
    {
      "metadata": {
        "id": "Ri5dSZ8jwYsm",
        "colab_type": "code",
        "colab": {}
      },
      "cell_type": "code",
      "source": [
        "test = [2, 1, 3, 4]\n",
        "one_pass(test)\n",
        "print(test)\n",
        "\n",
        "test = [4, 1, 2, 3]\n",
        "one_pass(test)\n",
        "print(test)\n",
        "\n",
        "test = [2, 1, 4, 3]\n",
        "one_pass(test)\n",
        "print(test)\n",
        "\n",
        "test = [1, 1, 2, 3]\n",
        "one_pass(test)\n",
        "print(test)\n",
        "\n",
        "test = [2, 3, 4, 1]\n",
        "one_pass(test)\n",
        "print(test)"
      ],
      "execution_count": 0,
      "outputs": []
    },
    {
      "metadata": {
        "id": "yl0O_8GexBCX",
        "colab_type": "text"
      },
      "cell_type": "markdown",
      "source": [
        "Finally, you can write the `bubble_sort(mylist)` function that will call the previous function repeatedly until the list is sorted.\n",
        "\n",
        "In order to keep thing simple, one can remark that we have at most `n = len(mylist)` pass to do.  \n",
        "So that what you'll do, without checking if the list has been sorted already"
      ]
    },
    {
      "metadata": {
        "id": "MXcVYKrJxBS1",
        "colab_type": "code",
        "colab": {}
      },
      "cell_type": "code",
      "source": [
        ""
      ],
      "execution_count": 0,
      "outputs": []
    },
    {
      "metadata": {
        "id": "mtcLJ_grMHuU",
        "colab_type": "text"
      },
      "cell_type": "markdown",
      "source": [
        "Execute the following cell mutliple time in order to check that your sorting implementation is working"
      ]
    },
    {
      "metadata": {
        "id": "Pt-95XlAMH5_",
        "colab_type": "code",
        "colab": {}
      },
      "cell_type": "code",
      "source": [
        "n = np.random.randint(50)\n",
        "random_list = np.random.randint(50, size=50)\n",
        "print(\"start: \",random_list)\n",
        "\n",
        "sorted_list = np.sort(random_list)\n",
        "print(\"solution:\", sorted_list)\n",
        "\n",
        "bubble_sort(random_list)\n",
        "print(\"your result: \"random_list)"
      ],
      "execution_count": 0,
      "outputs": []
    },
    {
      "metadata": {
        "id": "bF9w8mjh0NIu",
        "colab_type": "text"
      },
      "cell_type": "markdown",
      "source": [
        "Have you notice how we split up the problem in very small pieces, each of them beeing rather simple?\n",
        "\n",
        "Divide and conquer starategy are very well suited for programming."
      ]
    },
    {
      "metadata": {
        "id": "HwDOS1OWIJ9K",
        "colab_type": "text"
      },
      "cell_type": "markdown",
      "source": [
        "\n",
        "## Graphs\n",
        "\n",
        "The module [matplotlib](https://matplotlib.org/gallery/index.html) provides everything that's needed for plotting any kind of graphs :"
      ]
    },
    {
      "metadata": {
        "id": "tMaZ19Jg7mTy",
        "colab_type": "text"
      },
      "cell_type": "markdown",
      "source": [
        "\n",
        "### Demo\n"
      ]
    },
    {
      "metadata": {
        "id": "wNpVDzMT7mT0",
        "colab_type": "code",
        "colab": {}
      },
      "cell_type": "code",
      "source": [
        "t = np.linspace(0., 2., 21)\n",
        "s = np.sin(2 * np.pi * t) \n",
        "\n",
        "import matplotlib.pyplot as plt\n",
        "\n",
        "plt.figure(\"My first Figure\")\n",
        "plt.plot(t, s) \n",
        "plt.xlabel('time (s)') \n",
        "plt.ylabel('voltage (mV)') \n",
        "plt.title('About as simple as it gets, folks') \n",
        "plt.grid(True) \n",
        "plt.show() "
      ],
      "execution_count": 0,
      "outputs": []
    },
    {
      "metadata": {
        "id": "LwwB1juz-509",
        "colab_type": "text"
      },
      "cell_type": "markdown",
      "source": [
        "As you can see matplotlib do stuff behind the scene.  \n",
        "We did not had to create a variable to store the current figure and act on it.  \n",
        "When we say `plt.plot` it understand directly that we want to plot on the last openned figure.  \n",
        "\n",
        "Warning, the order of the points is important is order to draw a line:"
      ]
    },
    {
      "metadata": {
        "id": "EdD7_0Q5Axzh",
        "colab_type": "code",
        "colab": {}
      },
      "cell_type": "code",
      "source": [
        "t2 = np.random.permutation(t)\n",
        "s2 = np.sin(2 * np.pi * t2) \n",
        "\n",
        "plt.figure(\"My second Figure\")\n",
        "plt.plot(t, s, 'g', label='points are in order') \n",
        "plt.plot(t2, s2, label='randomly shuffled points') \n",
        "plt.xlabel('time (s)') \n",
        "plt.ylabel('voltage (mV)') \n",
        "plt.title('Everything looks garbage now') \n",
        "plt.grid(True) \n",
        "plt.legend()\n",
        "plt.show() "
      ],
      "execution_count": 0,
      "outputs": []
    },
    {
      "metadata": {
        "id": "AX21Nkqe7mT6",
        "colab_type": "text"
      },
      "cell_type": "markdown",
      "source": [
        "There is too much to say on matplotlib to devellop here.  \n",
        "The documentation is not very clear, but the [exemples](https://matplotlib.org/gallery/index.html) are.  \n",
        "Moreover, internet is full of help on this topic.\n",
        "\n",
        "#### All your plots must contains all those informations\n",
        "- Title of graph  \n",
        "- Titles on axis  \n",
        "- Grid  \n",
        "- Legend (if multiple plot)  \n",
        "<span style=\"font-size:xx-large;\">\n",
        "    <center>\n",
        "        I will give you penalties if you don't !\n",
        "    </center>\n",
        "</span>\n",
        "</div>\n"
      ]
    },
    {
      "metadata": {
        "id": "17N0EVQNH_3Q",
        "colab_type": "text"
      },
      "cell_type": "markdown",
      "source": [
        "\n",
        "### Your turn\n",
        "\n",
        "Create a function `f(x, λ)` that compute (use the return statement):\n",
        "$$ f(x) = x^2 \\sin\\left(\\frac{2 \\pi x}{\\lambda}\\right) $$"
      ]
    },
    {
      "metadata": {
        "id": "ShmZ6qd57mUI",
        "colab_type": "code",
        "colab": {}
      },
      "cell_type": "code",
      "source": [
        ""
      ],
      "execution_count": 0,
      "outputs": []
    },
    {
      "metadata": {
        "id": "rw6_pc6b7mUP",
        "colab_type": "text"
      },
      "cell_type": "markdown",
      "source": [
        "Create a array `x` with `100` points evenly distributed from $-1$ to $1$ (both included)  "
      ]
    },
    {
      "metadata": {
        "id": "gBzizZVH7mUS",
        "colab_type": "code",
        "colab": {}
      },
      "cell_type": "code",
      "source": [
        ""
      ],
      "execution_count": 0,
      "outputs": []
    },
    {
      "metadata": {
        "id": "XqqL-l1c7mUa",
        "colab_type": "text"
      },
      "cell_type": "markdown",
      "source": [
        "Compute\n",
        "- $ y_1 = f(x, \\lambda) $ with $ \\lambda = 0.3$\n",
        "- $ y_2 = f(x, \\lambda) $ with $ \\lambda = 0.4$\n",
        "- $ y_3 = f(x, \\lambda) $ with $ \\lambda = 0.5$"
      ]
    },
    {
      "metadata": {
        "id": "Z-Owi61X7mUg",
        "colab_type": "code",
        "colab": {}
      },
      "cell_type": "code",
      "source": [
        ""
      ],
      "execution_count": 0,
      "outputs": []
    },
    {
      "metadata": {
        "id": "quoXI8-27mUl",
        "colab_type": "text"
      },
      "cell_type": "markdown",
      "source": [
        "Plot them in the same graph  \n",
        "$y_2$ should be present with a red solid line  \n",
        "$y_3$ should be present with a green dashed line"
      ]
    },
    {
      "metadata": {
        "id": "Bo78ydWN7mUn",
        "colab_type": "code",
        "colab": {}
      },
      "cell_type": "code",
      "source": [
        ""
      ],
      "execution_count": 0,
      "outputs": []
    },
    {
      "metadata": {
        "id": "-O8yVbvzNNzo",
        "colab_type": "text"
      },
      "cell_type": "markdown",
      "source": [
        "\n",
        "To save an image from a script, you can use:\n",
        "```python\n",
        "plt.savefig(\"monImage.png\")\n",
        "```\n",
        "\n",
        "But again, since we are on google colab, If you want to download this file\n",
        "```python\n",
        "from google.colab import files\n",
        "files.download('monImage.png')\n",
        "```"
      ]
    },
    {
      "metadata": {
        "id": "g7j1tlgh7mU7",
        "colab_type": "text"
      },
      "cell_type": "markdown",
      "source": [
        "# Do not forget\n",
        "\n",
        "Before sending this notebook to me, **restart the kernel, and reexecute all the cells in order.**\n",
        "\n",
        "Once all cells have been filled and executed,\n",
        " * **save this document as a pdf file** (by printing it)  \n",
        " * **Check** that everything is present on the produced pdf  \n",
        " * **Send the pdf AND the notebook** to me via Universitice  \n",
        "\n",
        "This will be used to evaluate you.\n",
        "\n",
        "# That's it for today !"
      ]
    },
    {
      "metadata": {
        "id": "wfgVrjgE-cFT",
        "colab_type": "text"
      },
      "cell_type": "markdown",
      "source": [
        "Write here an rough estimation of the time you spent on this TP.  \n",
        "This will **not** be used to evaluate you,  \n",
        "but to will allow me to better adjust the complexities of the TP.\n",
        "\n",
        "Time spent: *h"
      ]
    },
    {
      "metadata": {
        "id": "92wxd28M-jW7",
        "colab_type": "code",
        "colab": {}
      },
      "cell_type": "code",
      "source": [
        ""
      ],
      "execution_count": 0,
      "outputs": []
    }
  ]
}
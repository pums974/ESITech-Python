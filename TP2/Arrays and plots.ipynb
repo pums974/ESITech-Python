{
 "cells": [
  {
   "cell_type": "markdown",
   "metadata": {},
   "source": [
    "<div class=\"alert alert-block alert-info\">\n",
    "<span style=\"font-size:xx-large;\"><center>Arrays and graphs</center></span>\n",
    "</div>\n",
    "\n",
    "# Demo\n",
    "\n",
    "The module [numpy](https://docs.scipy.org/doc/numpy/reference/) provides everything that's needed for arrays and maths on arrays"
   ]
  },
  {
   "cell_type": "code",
   "execution_count": null,
   "metadata": {
    "scrolled": true
   },
   "outputs": [],
   "source": [
    "import numpy as np\n",
    "t = np.arange(0., 2., 0.01)\n",
    "s = np.sin(2 * np.pi * t) \n",
    "print(s)"
   ]
  },
  {
   "cell_type": "markdown",
   "metadata": {},
   "source": [
    "The module [matplotlib](https://matplotlib.org/gallery/index.html) provides everything that's needed for plotting any kind of graphs :"
   ]
  },
  {
   "cell_type": "code",
   "execution_count": null,
   "metadata": {},
   "outputs": [],
   "source": [
    "%matplotlib notebook\n",
    "# The previous line gives a prettier graph in jupyter, this is not python\n",
    "\n",
    "import matplotlib.pyplot as plt\n",
    "\n",
    "plt.figure(\"My first Figure\")\n",
    "plt.plot(t, s) \n",
    "plt.xlabel('time (s)') \n",
    "plt.ylabel('voltage (mV)') \n",
    "plt.title('About as simple as it gets, folks') \n",
    "plt.grid(True) \n",
    "plt.show() "
   ]
  },
  {
   "cell_type": "markdown",
   "metadata": {},
   "source": [
    "<div class=\"alert alert-block alert-danger\">\n",
    "<span style=\"font-size:xx-large;\">\n",
    "    <center>\n",
    "        **All your plots must contains all those informations**<br><br>\n",
    "    </center>\n",
    "</span>\n",
    "- Title of graph  \n",
    "- Titles on axis  \n",
    "- Grid  \n",
    "- Legend (if multiple plot)<br>  \n",
    "<span style=\"font-size:xx-large;\">\n",
    "    <center>\n",
    "        I will give you penalties if you don't !\n",
    "    </center>\n",
    "</span>\n",
    "</div>\n",
    "\n",
    "# Your turn\n",
    "\n",
    "Create a function `f(x, λ)` that compute :\n",
    "$$ f(x) = x^2 \\sin\\left(\\frac{2 \\pi x}{\\lambda}\\right) $$"
   ]
  },
  {
   "cell_type": "code",
   "execution_count": null,
   "metadata": {},
   "outputs": [],
   "source": []
  },
  {
   "cell_type": "markdown",
   "metadata": {},
   "source": [
    "Compute the step \n",
    "$$ dx = \\frac{x_{\\text{max}} - x_{\\text{min}}}{N} $$\n",
    "with $ x_{\\text{min}} = -1 $, $ x_{\\text{max}} = 1 $ and $ N = 100 $"
   ]
  },
  {
   "cell_type": "code",
   "execution_count": null,
   "metadata": {},
   "outputs": [],
   "source": []
  },
  {
   "cell_type": "markdown",
   "metadata": {},
   "source": [
    "Create a array `x` with `N` points evenly distributed from xmin to xmax (both included)  "
   ]
  },
  {
   "cell_type": "code",
   "execution_count": null,
   "metadata": {},
   "outputs": [],
   "source": []
  },
  {
   "cell_type": "markdown",
   "metadata": {},
   "source": [
    "Compute\n",
    "- $ y_1 = f(x, \\lambda) $ with $ \\lambda = 0.3$\n",
    "- $ y_2 = f(x, \\lambda) $ with $ \\lambda = 0.4$\n",
    "- $ y_3 = f(x, \\lambda) $ with $ \\lambda = 0.5$"
   ]
  },
  {
   "cell_type": "code",
   "execution_count": null,
   "metadata": {},
   "outputs": [],
   "source": []
  },
  {
   "cell_type": "markdown",
   "metadata": {},
   "source": [
    "Plot them in the same graph  \n",
    "$y_2$ should be present with a red solid line  \n",
    "$y_3$ should be present with a green dashed line"
   ]
  },
  {
   "cell_type": "code",
   "execution_count": null,
   "metadata": {},
   "outputs": [],
   "source": []
  },
  {
   "cell_type": "markdown",
   "metadata": {},
   "source": [
    "# Saving data\n",
    "\n",
    "To save an image from a script, you can use:\n",
    "```python\n",
    "plt.savefig(\"monImage.png\")\n",
    "```\n",
    "\n",
    "To write arrays in a simple format you have first to compact them in a single variable says DataOut:\n",
    "```python\n",
    "DataOut = np.column_stack((x, y1, y2, y3))\n",
    "```\n",
    "\n",
    "Then data are saved on the file `myFile.txt` simply through:\n",
    "```python\n",
    "np.savetxt(\"myFile.txt\", DataOut) \n",
    "```\n",
    "\n",
    "# Loading data\n",
    "If the data are stored in a similar way, you can use \n",
    "```python\n",
    "np.loadtxt(\"myFile.txt\", DataIn) \n",
    "```\n",
    "\n",
    "An then \"unpack\" the result\n",
    "```python\n",
    "x, y1, y2, y3 = DataIn.T\n",
    "```\n",
    "(notice the transposition here ?  \n",
    "That's because python only know how to unpack lines and not columns)"
   ]
  },
  {
   "cell_type": "code",
   "execution_count": null,
   "metadata": {},
   "outputs": [],
   "source": []
  },
  {
   "cell_type": "markdown",
   "metadata": {},
   "source": [
    "<div class=\"alert alert-block alert-danger\">\n",
    "<span style=\"font-size:xx-large;\">\n",
    "    <center>\n",
    "        **Do not forget**\n",
    "    </center>\n",
    "</span>\n",
    "</div>\n",
    "\n",
    "Once all cells have been **filled** and **executed**, save this document as a pdf file (by printing it)  \n",
    "Check that everything is present on the produced pdf  \n",
    "Send it to me via Universitice  \n",
    "This will be used to evaluate you.\n",
    "\n",
    "<div class=\"alert alert-block alert-info\">\n",
    "<span style=\"font-size:xx-large;\"><center>That's it for today !</center></span>\n",
    "</div>"
   ]
  },
  {
   "cell_type": "code",
   "execution_count": null,
   "metadata": {},
   "outputs": [],
   "source": []
  }
 ],
 "metadata": {
  "kernelspec": {
   "display_name": "Python 3",
   "language": "python",
   "name": "python3"
  },
  "language_info": {
   "codemirror_mode": {
    "name": "ipython",
    "version": 3
   },
   "file_extension": ".py",
   "mimetype": "text/x-python",
   "name": "python",
   "nbconvert_exporter": "python",
   "pygments_lexer": "ipython3",
   "version": "3.5.2"
  },
  "toc": {
   "base_numbering": "1",
   "nav_menu": {},
   "number_sections": true,
   "sideBar": false,
   "skip_h1_title": false,
   "title_cell": "Table of Contents",
   "title_sidebar": "Contents",
   "toc_cell": false,
   "toc_position": {},
   "toc_section_display": true,
   "toc_window_display": true
  }
 },
 "nbformat": 4,
 "nbformat_minor": 2
}
